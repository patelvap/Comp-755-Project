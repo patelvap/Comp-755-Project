{
 "cells": [
  {
   "cell_type": "code",
   "execution_count": 1,
   "id": "211c69e0",
   "metadata": {},
   "outputs": [],
   "source": [
    "import numpy as np\n",
    "import tensorflow as tf\n",
    "import keras\n",
    "from keras.utils import np_utils\n",
    "from keras.layers import Input, Dense\n",
    "from keras.models import Model\n",
    "from keras import losses\n",
    "import matplotlib.pyplot as plt\n",
    "import pandas as pd\n",
    "from pandas import DataFrame\n",
    "\n",
    "#Define load embed\n",
    "def load_embed():\n",
    "    doc_embed   = tf.constant(np.load(f\"doc_collect_embed/doc_embed_col.npy\"))\n",
    "    word_embed  = tf.constant(np.load(f\"doc_collect_embed/word_embed_col.npy\"))\n",
    "    topic_embed = tf.constant(np.load(f\"doc_collect_embed/topic_embed_col.npy\"))\n",
    "    return (doc_embed, word_embed, topic_embed)\n",
    "\n",
    "#Define Topic Dist\n",
    "def topic_dist():\n",
    "    embeds = load_embed()\n",
    "    doc_embed = embeds[0]\n",
    "    topic_embed = embeds[2]\n",
    "    norm_doc = tf.nn.softmax(doc_embed)\n",
    "    topic_dist = tf.linalg.matmul(norm_doc, topic_embed)\n",
    "    return topic_dist"
   ]
  },
  {
   "cell_type": "code",
   "execution_count": 2,
   "id": "6fe4eec7",
   "metadata": {},
   "outputs": [
    {
     "name": "stdout",
     "output_type": "stream",
     "text": [
      "(300, 300)\n"
     ]
    }
   ],
   "source": [
    "#Load Data\n",
    "data = topic_dist()\n",
    "print(data.shape)"
   ]
  },
  {
   "cell_type": "code",
   "execution_count": 3,
   "id": "67518e8d",
   "metadata": {},
   "outputs": [],
   "source": [
    "#Sheet with the prev 10 years concatenated to predict the next year. Each sample is 3000 features for 300 topic dists over 10 years.\n",
    "inputs = pd.read_excel(f\"doc_collect_embed/Data_col.xlsx\")\n",
    "data_features = inputs.loc[:, inputs.columns]\n",
    "data_features = data_features.drop(['Sample'],axis=1)\n",
    "data_features=tf.convert_to_tensor(data_features)"
   ]
  },
  {
   "cell_type": "code",
   "execution_count": 4,
   "id": "18d6eaa2",
   "metadata": {},
   "outputs": [
    {
     "name": "stdout",
     "output_type": "stream",
     "text": [
      "(300, 3000)\n",
      "<class 'tensorflow.python.framework.ops.EagerTensor'>\n",
      "(230, 3000)\n",
      "(59, 3000)\n",
      "(230, 300)\n",
      "(59, 300)\n"
     ]
    }
   ],
   "source": [
    "print(data_features.shape)\n",
    "print(type(data_features))\n",
    "\n",
    "x_train = data_features[9:-61, :]\n",
    "x_test = data_features[240:-1, :]\n",
    "print(x_train.shape)\n",
    "print(x_test.shape)\n",
    "\n",
    "y_train = data[10:-60, :]\n",
    "y_test = data[241:, :]\n",
    "print(y_train.shape)\n",
    "print(y_test.shape)"
   ]
  },
  {
   "cell_type": "code",
   "execution_count": 5,
   "id": "2502a2ba",
   "metadata": {},
   "outputs": [
    {
     "name": "stdout",
     "output_type": "stream",
     "text": [
      "Epoch 1/5\n",
      "10/10 [==============================] - 0s 26ms/step - loss: -0.5338 - msle: 0.1849 - val_loss: -0.5908 - val_msle: 0.2317\n",
      "Epoch 2/5\n",
      "10/10 [==============================] - 0s 16ms/step - loss: -0.6066 - msle: 0.2305 - val_loss: -0.5928 - val_msle: 0.2528\n",
      "Epoch 3/5\n",
      "10/10 [==============================] - 0s 16ms/step - loss: -0.6121 - msle: 0.2431 - val_loss: -0.5916 - val_msle: 0.2429\n",
      "Epoch 4/5\n",
      "10/10 [==============================] - 0s 16ms/step - loss: -0.6308 - msle: 0.2265 - val_loss: -0.5927 - val_msle: 0.2343\n",
      "Epoch 5/5\n",
      "10/10 [==============================] - 0s 16ms/step - loss: -0.6480 - msle: 0.2197 - val_loss: -0.5914 - val_msle: 0.2287\n"
     ]
    },
    {
     "data": {
      "image/png": "[encoded data removed]",
      "text/plain": [
       "<Figure size 432x288 with 1 Axes>"
      ]
     },
     "metadata": {
      "needs_background": "light"
     },
     "output_type": "display_data"
    }
   ],
   "source": [
    "input_size = 3000\n",
    "hidden_size1 = 1500\n",
    "output_size = 300\n",
    "num_epochs = 5\n",
    "\n",
    "input_data = Input(shape=(input_size,))\n",
    "hidden_d_1 = Dense(hidden_size1, activation='tanh')(input_data)\n",
    "predicted = Dense(output_size, activation='tanh')(hidden_d_1)\n",
    "\n",
    "predictor = Model(input_data, predicted)\n",
    "predictor.compile(optimizer='Adam', loss='cosine_similarity', metrics=['msle'] ) #Can also do MSE or MAE here for loss.\n",
    "\n",
    "p = predictor.fit(x_train, y_train,\n",
    "epochs=num_epochs,\n",
    "steps_per_epoch=10,\n",
    "shuffle=False,\n",
    "validation_split=0.1)\n",
    "#validation_data=(X_test, Y_test))\n",
    "\n",
    "#Plotting loss\n",
    "plt.plot(p.history['loss'])\n",
    "plt.plot(p.history['val_loss'])\n",
    "plt.title('model loss')\n",
    "plt.ylabel('loss')\n",
    "plt.xlabel('epoch')\n",
    "plt.legend(['train'], loc='upper left')\n",
    "#plt.legend(['train', 'validation'], loc='upper left')\n",
    "plt.axis([0, num_epochs-1, 0, -1])\n",
    "plt.show()\n"
   ]
  },
  {
   "cell_type": "code",
   "execution_count": 6,
   "id": "aa1aa5fd",
   "metadata": {},
   "outputs": [
    {
     "name": "stdout",
     "output_type": "stream",
     "text": [
      "8/8 [==============================] - 0s 4ms/step - loss: -0.6532 - msle: 0.2257\n",
      "2/2 [==============================] - 0s 5ms/step - loss: -0.5889 - msle: 0.2282\n"
     ]
    }
   ],
   "source": [
    "trainScore = predictor.evaluate(x_train,y_train)\n",
    "testScore = predictor.evaluate(x_test,y_test)"
   ]
  },
  {
   "cell_type": "code",
   "execution_count": null,
   "id": "70ff38ab",
   "metadata": {},
   "outputs": [],
   "source": []
  }
 ],
 "metadata": {
  "kernelspec": {
   "display_name": "Python 3",
   "language": "python",
   "name": "python3"
  },
  "language_info": {
   "codemirror_mode": {
    "name": "ipython",
    "version": 3
   },
   "file_extension": ".py",
   "mimetype": "text/x-python",
   "name": "python",
   "nbconvert_exporter": "python",
   "pygments_lexer": "ipython3",
   "version": "3.8.8"
  }
 },
 "nbformat": 4,
 "nbformat_minor": 5
}

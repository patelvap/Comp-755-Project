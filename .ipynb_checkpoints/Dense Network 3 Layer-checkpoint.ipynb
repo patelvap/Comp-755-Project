{
 "cells": [
  {
   "cell_type": "code",
   "execution_count": 1,
   "id": "211c69e0",
   "metadata": {},
   "outputs": [],
   "source": [
    "import numpy as np\n",
    "import tensorflow as tf\n",
    "import keras\n",
    "from keras.utils import np_utils\n",
    "from keras.layers import Input, Dense\n",
    "from keras.models import Model\n",
    "from keras import losses\n",
    "import matplotlib.pyplot as plt\n",
    "import pandas as pd\n",
    "from pandas import DataFrame\n",
    "\n",
    "#Define load embed\n",
    "def load_embed():\n",
    "    doc_embed   = tf.constant(np.load(f\"doc_collect_embed/doc_embed_col.npy\"))\n",
    "    word_embed  = tf.constant(np.load(f\"doc_collect_embed/word_embed_col.npy\"))\n",
    "    topic_embed = tf.constant(np.load(f\"doc_collect_embed/topic_embed_col.npy\"))\n",
    "    return (doc_embed, word_embed, topic_embed)\n",
    "\n",
    "#Define Topic Dist\n",
    "def topic_dist():\n",
    "    embeds = load_embed()\n",
    "    doc_embed = embeds[0]\n",
    "    topic_embed = embeds[2]\n",
    "    norm_doc = tf.nn.softmax(doc_embed)\n",
    "    topic_dist = tf.linalg.matmul(norm_doc, topic_embed)\n",
    "    return topic_dist"
   ]
  },
  {
   "cell_type": "code",
   "execution_count": 2,
   "id": "901a5e24",
   "metadata": {},
   "outputs": [
    {
     "name": "stdout",
     "output_type": "stream",
     "text": [
      "(300, 300)\n"
     ]
    }
   ],
   "source": [
    "#Load Data\n",
    "data = topic_dist()\n",
    "print(data.shape)"
   ]
  },
  {
   "cell_type": "code",
   "execution_count": 3,
   "id": "9e04735f",
   "metadata": {},
   "outputs": [],
   "source": [
    "#Sheet with the prev 10 years concatenated to predict the next year. Each sample is 3000 features for 300 topic dists over 10 years.\n",
    "inputs = pd.read_excel(f\"doc_collect_embed/Data_col.xlsx\")\n",
    "data_features = inputs.loc[:, inputs.columns]\n",
    "data_features = data_features.drop(['Sample'],axis=1)\n",
    "data_features=tf.convert_to_tensor(data_features)"
   ]
  },
  {
   "cell_type": "code",
   "execution_count": 4,
   "id": "d4800b14",
   "metadata": {},
   "outputs": [
    {
     "name": "stdout",
     "output_type": "stream",
     "text": [
      "(300, 3000)\n",
      "<class 'tensorflow.python.framework.ops.EagerTensor'>\n",
      "(230, 3000)\n",
      "(59, 3000)\n",
      "(230, 300)\n",
      "(59, 300)\n"
     ]
    }
   ],
   "source": [
    "print(data_features.shape)\n",
    "print(type(data_features))\n",
    "\n",
    "x_train = data_features[9:-61, :]\n",
    "x_test = data_features[240:-1, :]\n",
    "print(x_train.shape)\n",
    "print(x_test.shape)\n",
    "\n",
    "y_train = data[10:-60, :]\n",
    "y_test = data[241:, :]\n",
    "print(y_train.shape)\n",
    "print(y_test.shape)"
   ]
  },
  {
   "cell_type": "code",
   "execution_count": 5,
   "id": "2502a2ba",
   "metadata": {},
   "outputs": [
    {
     "name": "stdout",
     "output_type": "stream",
     "text": [
      "Epoch 1/10\n",
      "10/10 [==============================] - 1s 32ms/step - loss: -0.5047 - msle: 0.1335 - val_loss: -0.6126 - val_msle: 0.1839\n",
      "Epoch 2/10\n",
      "10/10 [==============================] - 0s 20ms/step - loss: -0.6180 - msle: 0.1797 - val_loss: -0.6233 - val_msle: 0.1693\n",
      "Epoch 3/10\n",
      "10/10 [==============================] - 0s 21ms/step - loss: -0.6255 - msle: 0.1601 - val_loss: -0.6308 - val_msle: 0.1542\n",
      "Epoch 4/10\n",
      "10/10 [==============================] - 0s 21ms/step - loss: -0.6296 - msle: 0.1491 - val_loss: -0.6351 - val_msle: 0.1402\n",
      "Epoch 5/10\n",
      "10/10 [==============================] - 0s 20ms/step - loss: -0.6334 - msle: 0.1374 - val_loss: -0.6405 - val_msle: 0.1336\n",
      "Epoch 6/10\n",
      "10/10 [==============================] - 0s 20ms/step - loss: -0.6370 - msle: 0.1306 - val_loss: -0.6378 - val_msle: 0.1259\n",
      "Epoch 7/10\n",
      "10/10 [==============================] - 0s 20ms/step - loss: -0.6427 - msle: 0.1226 - val_loss: -0.6340 - val_msle: 0.1197\n",
      "Epoch 8/10\n",
      "10/10 [==============================] - 0s 21ms/step - loss: -0.6480 - msle: 0.1163 - val_loss: -0.6341 - val_msle: 0.1140\n",
      "Epoch 9/10\n",
      "10/10 [==============================] - 0s 20ms/step - loss: -0.6571 - msle: 0.1132 - val_loss: -0.6324 - val_msle: 0.1139\n",
      "Epoch 10/10\n",
      "10/10 [==============================] - 0s 21ms/step - loss: -0.6693 - msle: 0.1094 - val_loss: -0.6234 - val_msle: 0.1112\n"
     ]
    },
    {
     "data": {
      "image/png": "[encoded data removed]",
      "text/plain": [
       "<Figure size 432x288 with 1 Axes>"
      ]
     },
     "metadata": {
      "needs_background": "light"
     },
     "output_type": "display_data"
    }
   ],
   "source": [
    "input_size = 3000\n",
    "hidden_size1 = 1500\n",
    "hidden_size2 = 750\n",
    "hidden_size3 = 325\n",
    "output_size = 300\n",
    "num_epochs = 10\n",
    "\n",
    "input_data = Input(shape=(input_size,))\n",
    "hidden_d_1 = Dense(hidden_size1, activation='tanh')(input_data)\n",
    "hidden_d_2 = Dense(hidden_size2, activation='tanh')(hidden_d_1)\n",
    "hidden_d_3 = Dense(hidden_size3, activation='tanh')(hidden_d_2)\n",
    "predicted = Dense(output_size, activation='tanh')(hidden_d_3)\n",
    "\n",
    "predictor = Model(input_data, predicted)\n",
    "predictor.compile(optimizer='Adam', loss='cosine_similarity', metrics=['msle'] ) #Can also do MSE or MAE here for loss.\n",
    "\n",
    "p = predictor.fit(x_train, y_train,\n",
    "epochs=num_epochs,\n",
    "steps_per_epoch=10,\n",
    "shuffle=False,\n",
    "validation_split=0.1)\n",
    "#validation_data=(X_test, Y_test))\n",
    "\n",
    "#Plotting loss\n",
    "plt.plot(p.history['loss'])\n",
    "plt.plot(p.history['val_loss'])\n",
    "plt.title('model loss')\n",
    "plt.ylabel('loss')\n",
    "plt.xlabel('epoch')\n",
    "plt.legend(['train'], loc='upper left')\n",
    "#plt.legend(['train', 'validation'], loc='upper left')\n",
    "plt.axis([0, num_epochs-1, 0, -1])\n",
    "plt.show()\n"
   ]
  },
  {
   "cell_type": "code",
   "execution_count": 6,
   "id": "aa1aa5fd",
   "metadata": {},
   "outputs": [
    {
     "name": "stdout",
     "output_type": "stream",
     "text": [
      "8/8 [==============================] - 0s 5ms/step - loss: -0.6653 - msle: 0.1105\n",
      "2/2 [==============================] - 0s 8ms/step - loss: -0.6136 - msle: 0.1117\n"
     ]
    }
   ],
   "source": [
    "trainScore = predictor.evaluate(x_train,y_train)\n",
    "testScore = predictor.evaluate(x_test,y_test)"
   ]
  },
  {
   "cell_type": "code",
   "execution_count": null,
   "id": "77fc6cba",
   "metadata": {},
   "outputs": [],
   "source": []
  }
 ],
 "metadata": {
  "kernelspec": {
   "display_name": "Python 3",
   "language": "python",
   "name": "python3"
  },
  "language_info": {
   "codemirror_mode": {
    "name": "ipython",
    "version": 3
   },
   "file_extension": ".py",
   "mimetype": "text/x-python",
   "name": "python",
   "nbconvert_exporter": "python",
   "pygments_lexer": "ipython3",
   "version": "3.8.8"
  }
 },
 "nbformat": 4,
 "nbformat_minor": 5
}

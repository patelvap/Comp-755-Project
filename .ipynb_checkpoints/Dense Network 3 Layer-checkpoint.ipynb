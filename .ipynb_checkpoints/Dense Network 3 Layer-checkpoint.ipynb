{
 "cells": [
  {
   "cell_type": "code",
   "execution_count": 1,
   "metadata": {},
   "outputs": [
    {
     "name": "stderr",
     "output_type": "stream",
     "text": [
      "Using TensorFlow backend.\n"
     ]
    }
   ],
   "source": [
    "import numpy as np\n",
    "import tensorflow as tf\n",
    "import keras\n",
    "from keras.utils import np_utils\n",
    "from keras.layers import Input, Dense\n",
    "from keras.models import Model\n",
    "from keras import losses\n",
    "import matplotlib.pyplot as plt\n",
    "import pandas as pd\n",
    "from pandas import DataFrame\n",
    "\n",
    "#Define Load embed\n",
    "def load_embed(ind):\n",
    "    doc_embed   = tf.constant(np.load(f\"embeds_a/doc_embed_a{ind}.npy\"))\n",
    "    word_embed  = tf.constant(np.load(f\"embeds_a/word_embed_a{ind}.npy\"))\n",
    "    topic_embed = tf.constant(np.load(f\"embeds_a/topic_embed_a{ind}.npy\"))\n",
    "    return (doc_embed, word_embed, topic_embed)\n",
    "\n",
    "#Define Topic Dist\n",
    "def topic_dist(ind):\n",
    "    embeds = load_embed(ind)\n",
    "    doc_embed = embeds[0]\n",
    "    topic_embed = embeds[2]\n",
    "    norm_doc = tf.nn.softmax(doc_embed)\n",
    "    topic_dist = tf.linalg.matmul(norm_doc, topic_embed)\n",
    "    return topic_dist"
   ]
  },
  {
   "cell_type": "code",
   "execution_count": 2,
   "metadata": {},
   "outputs": [
    {
     "name": "stdout",
     "output_type": "stream",
     "text": [
      "(100, 40)\n",
      "(99, 40)\n",
      "(99, 40)\n"
     ]
    }
   ],
   "source": [
    "#Load Data\n",
    "data = load_embed(2)\n",
    "data = data[0]\n",
    "print(data.shape)\n",
    "#Remove last 10 rows (aka 2017. Cant predict 2018 without data)\n",
    "inputs = data[:-1, :]\n",
    "print(inputs.shape)\n",
    "#Remove first 1 row (aka 2008. Cant predict to 2008 without prev data)\n",
    "outputs = data[1:, :]\n",
    "print(outputs.shape)"
   ]
  },
  {
   "cell_type": "code",
   "execution_count": 3,
   "metadata": {},
   "outputs": [
    {
     "name": "stdout",
     "output_type": "stream",
     "text": [
      "Epoch 1/20\n",
      "10/10 [==============================] - 0s 47ms/step - loss: 1.4259 - cosine_similarity: 0.2460\n",
      "Epoch 2/20\n",
      "10/10 [==============================] - 0s 3ms/step - loss: 1.1569 - cosine_similarity: 0.4496\n",
      "Epoch 3/20\n",
      "10/10 [==============================] - 0s 2ms/step - loss: 1.0454 - cosine_similarity: 0.5279\n",
      "Epoch 4/20\n",
      "10/10 [==============================] - 0s 2ms/step - loss: 0.9801 - cosine_similarity: 0.5827\n",
      "Epoch 5/20\n",
      "10/10 [==============================] - 0s 2ms/step - loss: 0.8897 - cosine_similarity: 0.6312\n",
      "Epoch 6/20\n",
      "10/10 [==============================] - 0s 2ms/step - loss: 0.8405 - cosine_similarity: 0.6510\n",
      "Epoch 7/20\n",
      "10/10 [==============================] - 0s 2ms/step - loss: 0.8237 - cosine_similarity: 0.6580\n",
      "Epoch 8/20\n",
      "10/10 [==============================] - 0s 2ms/step - loss: 0.8153 - cosine_similarity: 0.6621\n",
      "Epoch 9/20\n",
      "10/10 [==============================] - 0s 3ms/step - loss: 0.8103 - cosine_similarity: 0.6644\n",
      "Epoch 10/20\n",
      "10/10 [==============================] - 0s 2ms/step - loss: 0.8071 - cosine_similarity: 0.6659\n",
      "Epoch 11/20\n",
      "10/10 [==============================] - 0s 3ms/step - loss: 0.8048 - cosine_similarity: 0.6669\n",
      "Epoch 12/20\n",
      "10/10 [==============================] - 0s 2ms/step - loss: 0.8032 - cosine_similarity: 0.6676\n",
      "Epoch 13/20\n",
      "10/10 [==============================] - 0s 3ms/step - loss: 0.8019 - cosine_similarity: 0.6680\n",
      "Epoch 14/20\n",
      "10/10 [==============================] - 0s 2ms/step - loss: 0.8009 - cosine_similarity: 0.6683\n",
      "Epoch 15/20\n",
      "10/10 [==============================] - 0s 3ms/step - loss: 0.8000 - cosine_similarity: 0.6685\n",
      "Epoch 16/20\n",
      "10/10 [==============================] - 0s 3ms/step - loss: 0.7993 - cosine_similarity: 0.6686\n",
      "Epoch 17/20\n",
      "10/10 [==============================] - 0s 3ms/step - loss: 0.7987 - cosine_similarity: 0.6686\n",
      "Epoch 18/20\n",
      "10/10 [==============================] - 0s 2ms/step - loss: 0.7982 - cosine_similarity: 0.6687\n",
      "Epoch 19/20\n",
      "10/10 [==============================] - 0s 3ms/step - loss: 0.7977 - cosine_similarity: 0.6687\n",
      "Epoch 20/20\n",
      "10/10 [==============================] - 0s 2ms/step - loss: 0.7973 - cosine_similarity: 0.6686\n"
     ]
    },
    {
     "data": {
      "image/png": "[encoded data removed]",
      "text/plain": [
       "<Figure size 432x288 with 1 Axes>"
      ]
     },
     "metadata": {
      "needs_background": "light"
     },
     "output_type": "display_data"
    },
    {
     "data": {
      "image/png": "[encoded data removed]",
      "text/plain": [
       "<Figure size 432x288 with 1 Axes>"
      ]
     },
     "metadata": {
      "needs_background": "light"
     },
     "output_type": "display_data"
    }
   ],
   "source": [
    "input_size = 40\n",
    "hidden_size1 = 40\n",
    "hidden_size2 = 40\n",
    "hidden_size3 = 40\n",
    "output_size = 40\n",
    "\n",
    "input_data = Input(shape=(input_size,))\n",
    "hidden_d_1 = Dense(hidden_size1, activation='tanh')(input_data)\n",
    "hidden_d_2 = Dense(hidden_size2, activation='tanh')(hidden_d_1)\n",
    "hidden_d_3 = Dense(hidden_size3, activation='tanh')(hidden_d_2)\n",
    "predicted = Dense(output_size, activation='tanh')(hidden_d_3)\n",
    "\n",
    "predictor = Model(input_data, predicted)\n",
    "predictor.compile(optimizer='Adam', loss='msle', metrics=['cosine_similarity'] ) #Can also do MSE or MAE here for loss.\n",
    "\n",
    "p = predictor.fit(inputs, outputs,\n",
    "epochs=20,\n",
    "steps_per_epoch=10,\n",
    "shuffle=False)\n",
    "#validation_data=(X_test, Y_test))\n",
    "#Plotting loss\n",
    "plt.plot(p.history['loss'])\n",
    "#plt.plot(p.history['val_loss'])\n",
    "plt.title('model loss')\n",
    "plt.ylabel('loss')\n",
    "plt.xlabel('epoch')\n",
    "plt.legend(['train'], loc='upper left')\n",
    "#plt.legend(['train', 'validation'], loc='upper left')\n",
    "plt.axis([0, 20, 0, 1.5])\n",
    "plt.show()\n",
    "\n",
    "#Plotting Accuracy\n",
    "plt.plot(p.history['cosine_similarity'])\n",
    "#plt.plot(p.history['val_acc'])\n",
    "plt.title('model cosine_similarity')\n",
    "plt.ylabel('cosine_similarity')\n",
    "plt.xlabel('epoch')\n",
    "plt.legend(['cosine_similarity'], loc='upper left')\n",
    "#plt.legend(['acc', 'val_acc'], loc='upper left')\n",
    "plt.axis([0, 20, 0.0, 1.0])\n",
    "plt.show()"
   ]
  },
  {
   "cell_type": "code",
   "execution_count": null,
   "metadata": {},
   "outputs": [],
   "source": []
  }
 ],
 "metadata": {
  "kernelspec": {
   "display_name": "Python 3",
   "language": "python",
   "name": "python3"
  },
  "language_info": {
   "codemirror_mode": {
    "name": "ipython",
    "version": 3
   },
   "file_extension": ".py",
   "mimetype": "text/x-python",
   "name": "python",
   "nbconvert_exporter": "python",
   "pygments_lexer": "ipython3",
   "version": "3.6.9"
  }
 },
 "nbformat": 4,
 "nbformat_minor": 5
}

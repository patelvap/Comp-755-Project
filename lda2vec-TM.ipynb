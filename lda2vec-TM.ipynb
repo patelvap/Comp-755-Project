{
 "cells": [
  {
   "cell_type": "markdown",
   "id": "70620997",
   "metadata": {},
   "source": [
    "# Temporal lda2vec Model\n",
    "\n",
    "We will implement both the lda2vec-TM model as well as a bidirectional RNN to predict future document embeddings."
   ]
  },
  {
   "cell_type": "code",
   "execution_count": 1,
   "id": "49201781",
   "metadata": {},
   "outputs": [
    {
     "name": "stdout",
     "output_type": "stream",
     "text": [
      "Found GPU at: /device:GPU:0Metal device set to: Apple M1\n",
      "\n"
     ]
    },
    {
     "name": "stderr",
     "output_type": "stream",
     "text": [
      "2021-11-22 14:37:17.723598: I tensorflow/core/common_runtime/pluggable_device/pluggable_device_factory.cc:305] Could not identify NUMA node of platform GPU ID 0, defaulting to 0. Your kernel may not have been built with NUMA support.\n",
      "2021-11-22 14:37:17.723989: I tensorflow/core/common_runtime/pluggable_device/pluggable_device_factory.cc:271] Created TensorFlow device (/device:GPU:0 with 0 MB memory) -> physical PluggableDevice (device: 0, name: METAL, pci bus id: <undefined>)\n"
     ]
    }
   ],
   "source": [
    "import tensorflow as tf\n",
    "device_name = tf.test.gpu_device_name()\n",
    "if device_name != '/device:GPU:0':\n",
    "  raise SystemError('GPU device not found')\n",
    "print('Found GPU at: {}'.format(device_name))\n",
    "import numpy as np\n",
    "import pickle\n",
    "import pandas as pd"
   ]
  },
  {
   "cell_type": "code",
   "execution_count": 2,
   "id": "dc7043c7",
   "metadata": {},
   "outputs": [],
   "source": [
    "import os\n",
    "os.environ['TF_CPP_MIN_LOG_LEVEL'] = '3'"
   ]
  },
  {
   "cell_type": "code",
   "execution_count": 12,
   "id": "1d891dc3",
   "metadata": {},
   "outputs": [],
   "source": [
    "from tensorflow.keras.layers import Embedding, Dense, GRU, Bidirectional\n",
    "from tensorflow.keras.models import Sequential\n",
    "from tensorflow.keras.optimizers import Adam\n",
    "from tensorflow.keras.datasets import imdb"
   ]
  },
  {
   "cell_type": "markdown",
   "id": "0d90ee8f",
   "metadata": {},
   "source": [
    "## Retrieve Embeddings\n",
    "\n",
    "We will retrieve back the embeddings and dictionary."
   ]
  },
  {
   "cell_type": "code",
   "execution_count": 4,
   "id": "35338b0a",
   "metadata": {},
   "outputs": [],
   "source": [
    "def load_embed(ind):\n",
    "    doc_embed   = tf.constant(np.load(f\"embeds/doc_embed_{ind}.npy\"))\n",
    "    word_embed  = tf.constant(np.load(f\"embeds/word_embed_{ind}.npy\"))\n",
    "    topic_embed = tf.constant(np.load(f\"embeds/topic_embed_{ind}.npy\"))\n",
    "    return (doc_embed, word_embed, topic_embed)"
   ]
  },
  {
   "cell_type": "code",
   "execution_count": 5,
   "id": "3447306d",
   "metadata": {},
   "outputs": [],
   "source": [
    "def load_word_dict(ind, idx_to_word):\n",
    "    if idx_to_word:\n",
    "        file = open(f\"preprocess/paper_set_{ind}/idx_to_word.pickle\", \"rb\")\n",
    "        word_dict = pickle.load(file)\n",
    "    else:\n",
    "        file = open(f\"preprocess/paper_set_{ind}/word_to_idx.pickle\", \"rb\")\n",
    "        word_dict = pickle.load(file)\n",
    "    return word_dict"
   ]
  },
  {
   "cell_type": "code",
   "execution_count": 6,
   "id": "e27cdacb",
   "metadata": {},
   "outputs": [],
   "source": [
    "def word_embed_lookup(s_ind, word):\n",
    "    word_embed = load_embed(s_ind)[1]\n",
    "    word_dict  = load_word_dict(s_ind, False)\n",
    "    word_ind   = word_dict[word]\n",
    "    return word_embed[word_ind]"
   ]
  },
  {
   "cell_type": "code",
   "execution_count": 7,
   "id": "9faf8fe1",
   "metadata": {},
   "outputs": [],
   "source": [
    "def word_idx_lookup(s_ind, word):\n",
    "    word_dict = load_word_dict(s_ind, False)\n",
    "    return word_dict[word]"
   ]
  },
  {
   "cell_type": "markdown",
   "id": "76706b53",
   "metadata": {},
   "source": [
    "## Modeling Topic Distribution\n",
    "\n",
    "We now model the topic distribution as a linear model to predict future documents."
   ]
  },
  {
   "cell_type": "code",
   "execution_count": 10,
   "id": "036ea6f8",
   "metadata": {},
   "outputs": [],
   "source": [
    "def topic_dist(ind):\n",
    "    embeds = load_embed(ind)\n",
    "    doc_embed = embeds[0]\n",
    "    topic_embed = embeds[2]\n",
    "    norm_doc = tf.nn.softmax(doc_embed)\n",
    "    topic_dist = tf.linalg.matmul(norm_doc, topic_embed)\n",
    "    return topic_dist"
   ]
  },
  {
   "cell_type": "markdown",
   "id": "a4eb3a3d",
   "metadata": {},
   "source": [
    "## Bidirectional RNN\n",
    "\n",
    "We will implement a bidirection RNN to obtain document vectors."
   ]
  },
  {
   "cell_type": "code",
   "execution_count": 19,
   "id": "d8f85064",
   "metadata": {},
   "outputs": [
    {
     "name": "stdout",
     "output_type": "stream",
     "text": [
      "Model: \"sequential_4\"\n",
      "_________________________________________________________________\n",
      "Layer (type)                 Output Shape              Param #   \n",
      "=================================================================\n",
      "embedding (Embedding)        (None, None, 300)         90000     \n",
      "_________________________________________________________________\n",
      "bidirectional_4 (Bidirection (None, 600)               1083600   \n",
      "=================================================================\n",
      "Total params: 1,173,600\n",
      "Trainable params: 1,173,600\n",
      "Non-trainable params: 0\n",
      "_________________________________________________________________\n",
      "Epoch 1/5\n"
     ]
    },
    {
     "name": "stderr",
     "output_type": "stream",
     "text": [
      "2021-11-22 14:57:53.098292: I tensorflow/compiler/mlir/mlir_graph_optimization_pass.cc:185] None of the MLIR Optimization Passes are enabled (registered 2)\n",
      "2021-11-22 14:57:53.101056: W tensorflow/core/platform/profile_utils/cpu_utils.cc:128] Failed to get CPU frequency: 0 Hz\n"
     ]
    },
    {
     "ename": "ValueError",
     "evalue": "in user code:\n\n    /Users/keanl/miniforge3/lib/python3.9/site-packages/keras/engine/training.py:853 train_function  *\n        return step_function(self, iterator)\n    /Users/keanl/miniforge3/lib/python3.9/site-packages/keras/engine/training.py:842 step_function  **\n        outputs = model.distribute_strategy.run(run_step, args=(data,))\n    /Users/keanl/miniforge3/lib/python3.9/site-packages/tensorflow/python/distribute/distribute_lib.py:1286 run\n        return self._extended.call_for_each_replica(fn, args=args, kwargs=kwargs)\n    /Users/keanl/miniforge3/lib/python3.9/site-packages/tensorflow/python/distribute/distribute_lib.py:2849 call_for_each_replica\n        return self._call_for_each_replica(fn, args, kwargs)\n    /Users/keanl/miniforge3/lib/python3.9/site-packages/tensorflow/python/distribute/distribute_lib.py:3632 _call_for_each_replica\n        return fn(*args, **kwargs)\n    /Users/keanl/miniforge3/lib/python3.9/site-packages/keras/engine/training.py:835 run_step  **\n        outputs = model.train_step(data)\n    /Users/keanl/miniforge3/lib/python3.9/site-packages/keras/engine/training.py:788 train_step\n        loss = self.compiled_loss(\n    /Users/keanl/miniforge3/lib/python3.9/site-packages/keras/engine/compile_utils.py:201 __call__\n        loss_value = loss_obj(y_t, y_p, sample_weight=sw)\n    /Users/keanl/miniforge3/lib/python3.9/site-packages/keras/losses.py:141 __call__\n        losses = call_fn(y_true, y_pred)\n    /Users/keanl/miniforge3/lib/python3.9/site-packages/keras/losses.py:245 call  **\n        return ag_fn(y_true, y_pred, **self._fn_kwargs)\n    /Users/keanl/miniforge3/lib/python3.9/site-packages/tensorflow/python/util/dispatch.py:206 wrapper\n        return target(*args, **kwargs)\n    /Users/keanl/miniforge3/lib/python3.9/site-packages/keras/losses.py:1968 cosine_similarity\n        return -tf.reduce_sum(y_true * y_pred, axis=axis)\n    /Users/keanl/miniforge3/lib/python3.9/site-packages/tensorflow/python/ops/math_ops.py:1383 binary_op_wrapper\n        raise e\n    /Users/keanl/miniforge3/lib/python3.9/site-packages/tensorflow/python/ops/math_ops.py:1367 binary_op_wrapper\n        return func(x, y, name=name)\n    /Users/keanl/miniforge3/lib/python3.9/site-packages/tensorflow/python/ops/math_ops.py:1710 _mul_dispatch\n        return multiply(x, y, name=name)\n    /Users/keanl/miniforge3/lib/python3.9/site-packages/tensorflow/python/util/dispatch.py:206 wrapper\n        return target(*args, **kwargs)\n    /Users/keanl/miniforge3/lib/python3.9/site-packages/tensorflow/python/ops/math_ops.py:530 multiply\n        return gen_math_ops.mul(x, y, name)\n    /Users/keanl/miniforge3/lib/python3.9/site-packages/tensorflow/python/ops/gen_math_ops.py:6245 mul\n        _, _, _op, _outputs = _op_def_library._apply_op_helper(\n    /Users/keanl/miniforge3/lib/python3.9/site-packages/tensorflow/python/framework/op_def_library.py:748 _apply_op_helper\n        op = g._create_op_internal(op_type_name, inputs, dtypes=None,\n    /Users/keanl/miniforge3/lib/python3.9/site-packages/tensorflow/python/framework/func_graph.py:599 _create_op_internal\n        return super(FuncGraph, self)._create_op_internal(  # pylint: disable=protected-access\n    /Users/keanl/miniforge3/lib/python3.9/site-packages/tensorflow/python/framework/ops.py:3561 _create_op_internal\n        ret = Operation(\n    /Users/keanl/miniforge3/lib/python3.9/site-packages/tensorflow/python/framework/ops.py:2041 __init__\n        self._c_op = _create_c_op(self._graph, node_def, inputs,\n    /Users/keanl/miniforge3/lib/python3.9/site-packages/tensorflow/python/framework/ops.py:1883 _create_c_op\n        raise ValueError(str(e))\n\n    ValueError: Dimensions must be equal, but are 300 and 600 for '{{node cosine_similarity/mul}} = Mul[T=DT_FLOAT](cosine_similarity/l2_normalize, cosine_similarity/l2_normalize_1)' with input shapes: [?,300], [?,600].\n",
     "output_type": "error",
     "traceback": [
      "\u001b[0;31m---------------------------------------------------------------------------\u001b[0m",
      "\u001b[0;31mValueError\u001b[0m                                Traceback (most recent call last)",
      "\u001b[0;32m/var/folders/t8/xpt23s1j08vd186gztkz58700000gn/T/ipykernel_36949/1705866712.py\u001b[0m in \u001b[0;36m<module>\u001b[0;34m\u001b[0m\n\u001b[1;32m     14\u001b[0m \u001b[0mmodel\u001b[0m\u001b[0;34m.\u001b[0m\u001b[0msummary\u001b[0m\u001b[0;34m(\u001b[0m\u001b[0;34m)\u001b[0m\u001b[0;34m\u001b[0m\u001b[0;34m\u001b[0m\u001b[0m\n\u001b[1;32m     15\u001b[0m \u001b[0;34m\u001b[0m\u001b[0m\n\u001b[0;32m---> 16\u001b[0;31m \u001b[0mhistory\u001b[0m \u001b[0;34m=\u001b[0m \u001b[0mmodel\u001b[0m\u001b[0;34m.\u001b[0m\u001b[0mfit\u001b[0m\u001b[0;34m(\u001b[0m\u001b[0minputs\u001b[0m\u001b[0;34m,\u001b[0m \u001b[0moutputs\u001b[0m\u001b[0;34m,\u001b[0m \u001b[0mepochs\u001b[0m\u001b[0;34m=\u001b[0m\u001b[0;36m5\u001b[0m\u001b[0;34m)\u001b[0m\u001b[0;34m\u001b[0m\u001b[0;34m\u001b[0m\u001b[0m\n\u001b[0m",
      "\u001b[0;32m~/miniforge3/lib/python3.9/site-packages/keras/engine/training.py\u001b[0m in \u001b[0;36mfit\u001b[0;34m(self, x, y, batch_size, epochs, verbose, callbacks, validation_split, validation_data, shuffle, class_weight, sample_weight, initial_epoch, steps_per_epoch, validation_steps, validation_batch_size, validation_freq, max_queue_size, workers, use_multiprocessing)\u001b[0m\n\u001b[1;32m   1182\u001b[0m                 _r=1):\n\u001b[1;32m   1183\u001b[0m               \u001b[0mcallbacks\u001b[0m\u001b[0;34m.\u001b[0m\u001b[0mon_train_batch_begin\u001b[0m\u001b[0;34m(\u001b[0m\u001b[0mstep\u001b[0m\u001b[0;34m)\u001b[0m\u001b[0;34m\u001b[0m\u001b[0;34m\u001b[0m\u001b[0m\n\u001b[0;32m-> 1184\u001b[0;31m               \u001b[0mtmp_logs\u001b[0m \u001b[0;34m=\u001b[0m \u001b[0mself\u001b[0m\u001b[0;34m.\u001b[0m\u001b[0mtrain_function\u001b[0m\u001b[0;34m(\u001b[0m\u001b[0miterator\u001b[0m\u001b[0;34m)\u001b[0m\u001b[0;34m\u001b[0m\u001b[0;34m\u001b[0m\u001b[0m\n\u001b[0m\u001b[1;32m   1185\u001b[0m               \u001b[0;32mif\u001b[0m \u001b[0mdata_handler\u001b[0m\u001b[0;34m.\u001b[0m\u001b[0mshould_sync\u001b[0m\u001b[0;34m:\u001b[0m\u001b[0;34m\u001b[0m\u001b[0;34m\u001b[0m\u001b[0m\n\u001b[1;32m   1186\u001b[0m                 \u001b[0mcontext\u001b[0m\u001b[0;34m.\u001b[0m\u001b[0masync_wait\u001b[0m\u001b[0;34m(\u001b[0m\u001b[0;34m)\u001b[0m\u001b[0;34m\u001b[0m\u001b[0;34m\u001b[0m\u001b[0m\n",
      "\u001b[0;32m~/miniforge3/lib/python3.9/site-packages/tensorflow/python/eager/def_function.py\u001b[0m in \u001b[0;36m__call__\u001b[0;34m(self, *args, **kwds)\u001b[0m\n\u001b[1;32m    883\u001b[0m \u001b[0;34m\u001b[0m\u001b[0m\n\u001b[1;32m    884\u001b[0m       \u001b[0;32mwith\u001b[0m \u001b[0mOptionalXlaContext\u001b[0m\u001b[0;34m(\u001b[0m\u001b[0mself\u001b[0m\u001b[0;34m.\u001b[0m\u001b[0m_jit_compile\u001b[0m\u001b[0;34m)\u001b[0m\u001b[0;34m:\u001b[0m\u001b[0;34m\u001b[0m\u001b[0;34m\u001b[0m\u001b[0m\n\u001b[0;32m--> 885\u001b[0;31m         \u001b[0mresult\u001b[0m \u001b[0;34m=\u001b[0m \u001b[0mself\u001b[0m\u001b[0;34m.\u001b[0m\u001b[0m_call\u001b[0m\u001b[0;34m(\u001b[0m\u001b[0;34m*\u001b[0m\u001b[0margs\u001b[0m\u001b[0;34m,\u001b[0m \u001b[0;34m**\u001b[0m\u001b[0mkwds\u001b[0m\u001b[0;34m)\u001b[0m\u001b[0;34m\u001b[0m\u001b[0;34m\u001b[0m\u001b[0m\n\u001b[0m\u001b[1;32m    886\u001b[0m \u001b[0;34m\u001b[0m\u001b[0m\n\u001b[1;32m    887\u001b[0m       \u001b[0mnew_tracing_count\u001b[0m \u001b[0;34m=\u001b[0m \u001b[0mself\u001b[0m\u001b[0;34m.\u001b[0m\u001b[0mexperimental_get_tracing_count\u001b[0m\u001b[0;34m(\u001b[0m\u001b[0;34m)\u001b[0m\u001b[0;34m\u001b[0m\u001b[0;34m\u001b[0m\u001b[0m\n",
      "\u001b[0;32m~/miniforge3/lib/python3.9/site-packages/tensorflow/python/eager/def_function.py\u001b[0m in \u001b[0;36m_call\u001b[0;34m(self, *args, **kwds)\u001b[0m\n\u001b[1;32m    931\u001b[0m       \u001b[0;31m# This is the first call of __call__, so we have to initialize.\u001b[0m\u001b[0;34m\u001b[0m\u001b[0;34m\u001b[0m\u001b[0m\n\u001b[1;32m    932\u001b[0m       \u001b[0minitializers\u001b[0m \u001b[0;34m=\u001b[0m \u001b[0;34m[\u001b[0m\u001b[0;34m]\u001b[0m\u001b[0;34m\u001b[0m\u001b[0;34m\u001b[0m\u001b[0m\n\u001b[0;32m--> 933\u001b[0;31m       \u001b[0mself\u001b[0m\u001b[0;34m.\u001b[0m\u001b[0m_initialize\u001b[0m\u001b[0;34m(\u001b[0m\u001b[0margs\u001b[0m\u001b[0;34m,\u001b[0m \u001b[0mkwds\u001b[0m\u001b[0;34m,\u001b[0m \u001b[0madd_initializers_to\u001b[0m\u001b[0;34m=\u001b[0m\u001b[0minitializers\u001b[0m\u001b[0;34m)\u001b[0m\u001b[0;34m\u001b[0m\u001b[0;34m\u001b[0m\u001b[0m\n\u001b[0m\u001b[1;32m    934\u001b[0m     \u001b[0;32mfinally\u001b[0m\u001b[0;34m:\u001b[0m\u001b[0;34m\u001b[0m\u001b[0;34m\u001b[0m\u001b[0m\n\u001b[1;32m    935\u001b[0m       \u001b[0;31m# At this point we know that the initialization is complete (or less\u001b[0m\u001b[0;34m\u001b[0m\u001b[0;34m\u001b[0m\u001b[0m\n",
      "\u001b[0;32m~/miniforge3/lib/python3.9/site-packages/tensorflow/python/eager/def_function.py\u001b[0m in \u001b[0;36m_initialize\u001b[0;34m(self, args, kwds, add_initializers_to)\u001b[0m\n\u001b[1;32m    757\u001b[0m     \u001b[0mself\u001b[0m\u001b[0;34m.\u001b[0m\u001b[0m_graph_deleter\u001b[0m \u001b[0;34m=\u001b[0m \u001b[0mFunctionDeleter\u001b[0m\u001b[0;34m(\u001b[0m\u001b[0mself\u001b[0m\u001b[0;34m.\u001b[0m\u001b[0m_lifted_initializer_graph\u001b[0m\u001b[0;34m)\u001b[0m\u001b[0;34m\u001b[0m\u001b[0;34m\u001b[0m\u001b[0m\n\u001b[1;32m    758\u001b[0m     self._concrete_stateful_fn = (\n\u001b[0;32m--> 759\u001b[0;31m         self._stateful_fn._get_concrete_function_internal_garbage_collected(  # pylint: disable=protected-access\n\u001b[0m\u001b[1;32m    760\u001b[0m             *args, **kwds))\n\u001b[1;32m    761\u001b[0m \u001b[0;34m\u001b[0m\u001b[0m\n",
      "\u001b[0;32m~/miniforge3/lib/python3.9/site-packages/tensorflow/python/eager/function.py\u001b[0m in \u001b[0;36m_get_concrete_function_internal_garbage_collected\u001b[0;34m(self, *args, **kwargs)\u001b[0m\n\u001b[1;32m   3064\u001b[0m       \u001b[0margs\u001b[0m\u001b[0;34m,\u001b[0m \u001b[0mkwargs\u001b[0m \u001b[0;34m=\u001b[0m \u001b[0;32mNone\u001b[0m\u001b[0;34m,\u001b[0m \u001b[0;32mNone\u001b[0m\u001b[0;34m\u001b[0m\u001b[0;34m\u001b[0m\u001b[0m\n\u001b[1;32m   3065\u001b[0m     \u001b[0;32mwith\u001b[0m \u001b[0mself\u001b[0m\u001b[0;34m.\u001b[0m\u001b[0m_lock\u001b[0m\u001b[0;34m:\u001b[0m\u001b[0;34m\u001b[0m\u001b[0;34m\u001b[0m\u001b[0m\n\u001b[0;32m-> 3066\u001b[0;31m       \u001b[0mgraph_function\u001b[0m\u001b[0;34m,\u001b[0m \u001b[0m_\u001b[0m \u001b[0;34m=\u001b[0m \u001b[0mself\u001b[0m\u001b[0;34m.\u001b[0m\u001b[0m_maybe_define_function\u001b[0m\u001b[0;34m(\u001b[0m\u001b[0margs\u001b[0m\u001b[0;34m,\u001b[0m \u001b[0mkwargs\u001b[0m\u001b[0;34m)\u001b[0m\u001b[0;34m\u001b[0m\u001b[0;34m\u001b[0m\u001b[0m\n\u001b[0m\u001b[1;32m   3067\u001b[0m     \u001b[0;32mreturn\u001b[0m \u001b[0mgraph_function\u001b[0m\u001b[0;34m\u001b[0m\u001b[0;34m\u001b[0m\u001b[0m\n\u001b[1;32m   3068\u001b[0m \u001b[0;34m\u001b[0m\u001b[0m\n",
      "\u001b[0;32m~/miniforge3/lib/python3.9/site-packages/tensorflow/python/eager/function.py\u001b[0m in \u001b[0;36m_maybe_define_function\u001b[0;34m(self, args, kwargs)\u001b[0m\n\u001b[1;32m   3461\u001b[0m \u001b[0;34m\u001b[0m\u001b[0m\n\u001b[1;32m   3462\u001b[0m           \u001b[0mself\u001b[0m\u001b[0;34m.\u001b[0m\u001b[0m_function_cache\u001b[0m\u001b[0;34m.\u001b[0m\u001b[0mmissed\u001b[0m\u001b[0;34m.\u001b[0m\u001b[0madd\u001b[0m\u001b[0;34m(\u001b[0m\u001b[0mcall_context_key\u001b[0m\u001b[0;34m)\u001b[0m\u001b[0;34m\u001b[0m\u001b[0;34m\u001b[0m\u001b[0m\n\u001b[0;32m-> 3463\u001b[0;31m           \u001b[0mgraph_function\u001b[0m \u001b[0;34m=\u001b[0m \u001b[0mself\u001b[0m\u001b[0;34m.\u001b[0m\u001b[0m_create_graph_function\u001b[0m\u001b[0;34m(\u001b[0m\u001b[0margs\u001b[0m\u001b[0;34m,\u001b[0m \u001b[0mkwargs\u001b[0m\u001b[0;34m)\u001b[0m\u001b[0;34m\u001b[0m\u001b[0;34m\u001b[0m\u001b[0m\n\u001b[0m\u001b[1;32m   3464\u001b[0m           \u001b[0mself\u001b[0m\u001b[0;34m.\u001b[0m\u001b[0m_function_cache\u001b[0m\u001b[0;34m.\u001b[0m\u001b[0mprimary\u001b[0m\u001b[0;34m[\u001b[0m\u001b[0mcache_key\u001b[0m\u001b[0;34m]\u001b[0m \u001b[0;34m=\u001b[0m \u001b[0mgraph_function\u001b[0m\u001b[0;34m\u001b[0m\u001b[0;34m\u001b[0m\u001b[0m\n\u001b[1;32m   3465\u001b[0m \u001b[0;34m\u001b[0m\u001b[0m\n",
      "\u001b[0;32m~/miniforge3/lib/python3.9/site-packages/tensorflow/python/eager/function.py\u001b[0m in \u001b[0;36m_create_graph_function\u001b[0;34m(self, args, kwargs, override_flat_arg_shapes)\u001b[0m\n\u001b[1;32m   3296\u001b[0m     \u001b[0marg_names\u001b[0m \u001b[0;34m=\u001b[0m \u001b[0mbase_arg_names\u001b[0m \u001b[0;34m+\u001b[0m \u001b[0mmissing_arg_names\u001b[0m\u001b[0;34m\u001b[0m\u001b[0;34m\u001b[0m\u001b[0m\n\u001b[1;32m   3297\u001b[0m     graph_function = ConcreteFunction(\n\u001b[0;32m-> 3298\u001b[0;31m         func_graph_module.func_graph_from_py_func(\n\u001b[0m\u001b[1;32m   3299\u001b[0m             \u001b[0mself\u001b[0m\u001b[0;34m.\u001b[0m\u001b[0m_name\u001b[0m\u001b[0;34m,\u001b[0m\u001b[0;34m\u001b[0m\u001b[0;34m\u001b[0m\u001b[0m\n\u001b[1;32m   3300\u001b[0m             \u001b[0mself\u001b[0m\u001b[0;34m.\u001b[0m\u001b[0m_python_function\u001b[0m\u001b[0;34m,\u001b[0m\u001b[0;34m\u001b[0m\u001b[0;34m\u001b[0m\u001b[0m\n",
      "\u001b[0;32m~/miniforge3/lib/python3.9/site-packages/tensorflow/python/framework/func_graph.py\u001b[0m in \u001b[0;36mfunc_graph_from_py_func\u001b[0;34m(name, python_func, args, kwargs, signature, func_graph, autograph, autograph_options, add_control_dependencies, arg_names, op_return_value, collections, capture_by_value, override_flat_arg_shapes, acd_record_initial_resource_uses)\u001b[0m\n\u001b[1;32m   1005\u001b[0m         \u001b[0m_\u001b[0m\u001b[0;34m,\u001b[0m \u001b[0moriginal_func\u001b[0m \u001b[0;34m=\u001b[0m \u001b[0mtf_decorator\u001b[0m\u001b[0;34m.\u001b[0m\u001b[0munwrap\u001b[0m\u001b[0;34m(\u001b[0m\u001b[0mpython_func\u001b[0m\u001b[0;34m)\u001b[0m\u001b[0;34m\u001b[0m\u001b[0;34m\u001b[0m\u001b[0m\n\u001b[1;32m   1006\u001b[0m \u001b[0;34m\u001b[0m\u001b[0m\n\u001b[0;32m-> 1007\u001b[0;31m       \u001b[0mfunc_outputs\u001b[0m \u001b[0;34m=\u001b[0m \u001b[0mpython_func\u001b[0m\u001b[0;34m(\u001b[0m\u001b[0;34m*\u001b[0m\u001b[0mfunc_args\u001b[0m\u001b[0;34m,\u001b[0m \u001b[0;34m**\u001b[0m\u001b[0mfunc_kwargs\u001b[0m\u001b[0;34m)\u001b[0m\u001b[0;34m\u001b[0m\u001b[0;34m\u001b[0m\u001b[0m\n\u001b[0m\u001b[1;32m   1008\u001b[0m \u001b[0;34m\u001b[0m\u001b[0m\n\u001b[1;32m   1009\u001b[0m       \u001b[0;31m# invariant: `func_outputs` contains only Tensors, CompositeTensors,\u001b[0m\u001b[0;34m\u001b[0m\u001b[0;34m\u001b[0m\u001b[0m\n",
      "\u001b[0;32m~/miniforge3/lib/python3.9/site-packages/tensorflow/python/eager/def_function.py\u001b[0m in \u001b[0;36mwrapped_fn\u001b[0;34m(*args, **kwds)\u001b[0m\n\u001b[1;32m    666\u001b[0m         \u001b[0;31m# the function a weak reference to itself to avoid a reference cycle.\u001b[0m\u001b[0;34m\u001b[0m\u001b[0;34m\u001b[0m\u001b[0m\n\u001b[1;32m    667\u001b[0m         \u001b[0;32mwith\u001b[0m \u001b[0mOptionalXlaContext\u001b[0m\u001b[0;34m(\u001b[0m\u001b[0mcompile_with_xla\u001b[0m\u001b[0;34m)\u001b[0m\u001b[0;34m:\u001b[0m\u001b[0;34m\u001b[0m\u001b[0;34m\u001b[0m\u001b[0m\n\u001b[0;32m--> 668\u001b[0;31m           \u001b[0mout\u001b[0m \u001b[0;34m=\u001b[0m \u001b[0mweak_wrapped_fn\u001b[0m\u001b[0;34m(\u001b[0m\u001b[0;34m)\u001b[0m\u001b[0;34m.\u001b[0m\u001b[0m__wrapped__\u001b[0m\u001b[0;34m(\u001b[0m\u001b[0;34m*\u001b[0m\u001b[0margs\u001b[0m\u001b[0;34m,\u001b[0m \u001b[0;34m**\u001b[0m\u001b[0mkwds\u001b[0m\u001b[0;34m)\u001b[0m\u001b[0;34m\u001b[0m\u001b[0;34m\u001b[0m\u001b[0m\n\u001b[0m\u001b[1;32m    669\u001b[0m         \u001b[0;32mreturn\u001b[0m \u001b[0mout\u001b[0m\u001b[0;34m\u001b[0m\u001b[0;34m\u001b[0m\u001b[0m\n\u001b[1;32m    670\u001b[0m \u001b[0;34m\u001b[0m\u001b[0m\n",
      "\u001b[0;32m~/miniforge3/lib/python3.9/site-packages/tensorflow/python/framework/func_graph.py\u001b[0m in \u001b[0;36mwrapper\u001b[0;34m(*args, **kwargs)\u001b[0m\n\u001b[1;32m    992\u001b[0m           \u001b[0;32mexcept\u001b[0m \u001b[0mException\u001b[0m \u001b[0;32mas\u001b[0m \u001b[0me\u001b[0m\u001b[0;34m:\u001b[0m  \u001b[0;31m# pylint:disable=broad-except\u001b[0m\u001b[0;34m\u001b[0m\u001b[0;34m\u001b[0m\u001b[0m\n\u001b[1;32m    993\u001b[0m             \u001b[0;32mif\u001b[0m \u001b[0mhasattr\u001b[0m\u001b[0;34m(\u001b[0m\u001b[0me\u001b[0m\u001b[0;34m,\u001b[0m \u001b[0;34m\"ag_error_metadata\"\u001b[0m\u001b[0;34m)\u001b[0m\u001b[0;34m:\u001b[0m\u001b[0;34m\u001b[0m\u001b[0;34m\u001b[0m\u001b[0m\n\u001b[0;32m--> 994\u001b[0;31m               \u001b[0;32mraise\u001b[0m \u001b[0me\u001b[0m\u001b[0;34m.\u001b[0m\u001b[0mag_error_metadata\u001b[0m\u001b[0;34m.\u001b[0m\u001b[0mto_exception\u001b[0m\u001b[0;34m(\u001b[0m\u001b[0me\u001b[0m\u001b[0;34m)\u001b[0m\u001b[0;34m\u001b[0m\u001b[0;34m\u001b[0m\u001b[0m\n\u001b[0m\u001b[1;32m    995\u001b[0m             \u001b[0;32melse\u001b[0m\u001b[0;34m:\u001b[0m\u001b[0;34m\u001b[0m\u001b[0;34m\u001b[0m\u001b[0m\n\u001b[1;32m    996\u001b[0m               \u001b[0;32mraise\u001b[0m\u001b[0;34m\u001b[0m\u001b[0;34m\u001b[0m\u001b[0m\n",
      "\u001b[0;31mValueError\u001b[0m: in user code:\n\n    /Users/keanl/miniforge3/lib/python3.9/site-packages/keras/engine/training.py:853 train_function  *\n        return step_function(self, iterator)\n    /Users/keanl/miniforge3/lib/python3.9/site-packages/keras/engine/training.py:842 step_function  **\n        outputs = model.distribute_strategy.run(run_step, args=(data,))\n    /Users/keanl/miniforge3/lib/python3.9/site-packages/tensorflow/python/distribute/distribute_lib.py:1286 run\n        return self._extended.call_for_each_replica(fn, args=args, kwargs=kwargs)\n    /Users/keanl/miniforge3/lib/python3.9/site-packages/tensorflow/python/distribute/distribute_lib.py:2849 call_for_each_replica\n        return self._call_for_each_replica(fn, args, kwargs)\n    /Users/keanl/miniforge3/lib/python3.9/site-packages/tensorflow/python/distribute/distribute_lib.py:3632 _call_for_each_replica\n        return fn(*args, **kwargs)\n    /Users/keanl/miniforge3/lib/python3.9/site-packages/keras/engine/training.py:835 run_step  **\n        outputs = model.train_step(data)\n    /Users/keanl/miniforge3/lib/python3.9/site-packages/keras/engine/training.py:788 train_step\n        loss = self.compiled_loss(\n    /Users/keanl/miniforge3/lib/python3.9/site-packages/keras/engine/compile_utils.py:201 __call__\n        loss_value = loss_obj(y_t, y_p, sample_weight=sw)\n    /Users/keanl/miniforge3/lib/python3.9/site-packages/keras/losses.py:141 __call__\n        losses = call_fn(y_true, y_pred)\n    /Users/keanl/miniforge3/lib/python3.9/site-packages/keras/losses.py:245 call  **\n        return ag_fn(y_true, y_pred, **self._fn_kwargs)\n    /Users/keanl/miniforge3/lib/python3.9/site-packages/tensorflow/python/util/dispatch.py:206 wrapper\n        return target(*args, **kwargs)\n    /Users/keanl/miniforge3/lib/python3.9/site-packages/keras/losses.py:1968 cosine_similarity\n        return -tf.reduce_sum(y_true * y_pred, axis=axis)\n    /Users/keanl/miniforge3/lib/python3.9/site-packages/tensorflow/python/ops/math_ops.py:1383 binary_op_wrapper\n        raise e\n    /Users/keanl/miniforge3/lib/python3.9/site-packages/tensorflow/python/ops/math_ops.py:1367 binary_op_wrapper\n        return func(x, y, name=name)\n    /Users/keanl/miniforge3/lib/python3.9/site-packages/tensorflow/python/ops/math_ops.py:1710 _mul_dispatch\n        return multiply(x, y, name=name)\n    /Users/keanl/miniforge3/lib/python3.9/site-packages/tensorflow/python/util/dispatch.py:206 wrapper\n        return target(*args, **kwargs)\n    /Users/keanl/miniforge3/lib/python3.9/site-packages/tensorflow/python/ops/math_ops.py:530 multiply\n        return gen_math_ops.mul(x, y, name)\n    /Users/keanl/miniforge3/lib/python3.9/site-packages/tensorflow/python/ops/gen_math_ops.py:6245 mul\n        _, _, _op, _outputs = _op_def_library._apply_op_helper(\n    /Users/keanl/miniforge3/lib/python3.9/site-packages/tensorflow/python/framework/op_def_library.py:748 _apply_op_helper\n        op = g._create_op_internal(op_type_name, inputs, dtypes=None,\n    /Users/keanl/miniforge3/lib/python3.9/site-packages/tensorflow/python/framework/func_graph.py:599 _create_op_internal\n        return super(FuncGraph, self)._create_op_internal(  # pylint: disable=protected-access\n    /Users/keanl/miniforge3/lib/python3.9/site-packages/tensorflow/python/framework/ops.py:3561 _create_op_internal\n        ret = Operation(\n    /Users/keanl/miniforge3/lib/python3.9/site-packages/tensorflow/python/framework/ops.py:2041 __init__\n        self._c_op = _create_c_op(self._graph, node_def, inputs,\n    /Users/keanl/miniforge3/lib/python3.9/site-packages/tensorflow/python/framework/ops.py:1883 _create_c_op\n        raise ValueError(str(e))\n\n    ValueError: Dimensions must be equal, but are 300 and 600 for '{{node cosine_similarity/mul}} = Mul[T=DT_FLOAT](cosine_similarity/l2_normalize, cosine_similarity/l2_normalize_1)' with input shapes: [?,300], [?,600].\n"
     ]
    }
   ],
   "source": [
    "model = tf.keras.Sequential()\n",
    "model.add(Embedding(300, 300))\n",
    "model.add(Bidirectional(GRU(300)))\n",
    "\n",
    "loss_function = tf.keras.losses.CosineSimilarity()\n",
    "optimizer = Adam()\n",
    "additional_metrics = ['accuracy']\n",
    "\n",
    "inputs = topic_dist(0)[:80]\n",
    "outputs = topic_dist(0)[1:81]\n",
    "\n",
    "model.compile(optimizer=optimizer, loss=loss_function, metrics=additional_metrics)\n",
    "\n",
    "model.summary()\n",
    "\n",
    "history = model.fit(inputs, outputs, epochs=5)"
   ]
  },
  {
   "cell_type": "code",
   "execution_count": 77,
   "id": "2e0c05ab",
   "metadata": {},
   "outputs": [],
   "source": [
    "# Pad all sequences\n",
    "padded_inputs = pad_sequences(x_train, maxlen=max_sequence_length, value = 0.0) # 0.0 because it corresponds with <PAD>\n",
    "padded_inputs_test = pad_sequences(x_test, maxlen=max_sequence_length, value = 0.0) # 0.0 because it corresponds with <PAD>"
   ]
  },
  {
   "cell_type": "code",
   "execution_count": 78,
   "id": "0d38c121",
   "metadata": {},
   "outputs": [
    {
     "name": "stdout",
     "output_type": "stream",
     "text": [
      "Model: \"sequential\"\n",
      "_________________________________________________________________\n",
      "Layer (type)                 Output Shape              Param #   \n",
      "=================================================================\n",
      "embedding (Embedding)        (None, 300, 15)           75000     \n",
      "_________________________________________________________________\n",
      "bidirectional (Bidirectional (None, 10)                2080      \n",
      "_________________________________________________________________\n",
      "dense (Dense)                (None, 1)                 11        \n",
      "=================================================================\n",
      "Total params: 77,091\n",
      "Trainable params: 77,091\n",
      "Non-trainable params: 0\n",
      "_________________________________________________________________\n"
     ]
    },
    {
     "name": "stderr",
     "output_type": "stream",
     "text": [
      "2021-11-22 09:31:43.657729: I tensorflow/compiler/mlir/mlir_graph_optimization_pass.cc:185] None of the MLIR Optimization Passes are enabled (registered 2)\n",
      "2021-11-22 09:31:43.661203: W tensorflow/core/platform/profile_utils/cpu_utils.cc:128] Failed to get CPU frequency: 0 Hz\n"
     ]
    },
    {
     "name": "stdout",
     "output_type": "stream",
     "text": [
      "Epoch 1/5\n"
     ]
    },
    {
     "name": "stderr",
     "output_type": "stream",
     "text": [
      "2021-11-22 09:31:44.381042: I tensorflow/core/grappler/optimizers/custom_graph_optimizer_registry.cc:112] Plugin optimizer for device_type GPU is enabled.\n",
      "2021-11-22 09:31:44.587089: I tensorflow/core/grappler/optimizers/custom_graph_optimizer_registry.cc:112] Plugin optimizer for device_type GPU is enabled.\n",
      "2021-11-22 09:31:44.597498: I tensorflow/core/grappler/optimizers/custom_graph_optimizer_registry.cc:112] Plugin optimizer for device_type GPU is enabled.\n",
      "2021-11-22 09:31:46.174542: I tensorflow/core/grappler/optimizers/custom_graph_optimizer_registry.cc:112] Plugin optimizer for device_type GPU is enabled.\n",
      "2021-11-22 09:31:46.188401: I tensorflow/core/grappler/optimizers/custom_graph_optimizer_registry.cc:112] Plugin optimizer for device_type GPU is enabled.\n"
     ]
    },
    {
     "name": "stdout",
     "output_type": "stream",
     "text": [
      "157/157 [==============================] - ETA: 0s - loss: 0.6932 - accuracy: 0.5046"
     ]
    },
    {
     "name": "stderr",
     "output_type": "stream",
     "text": [
      "2021-11-22 09:32:14.045058: I tensorflow/core/grappler/optimizers/custom_graph_optimizer_registry.cc:112] Plugin optimizer for device_type GPU is enabled.\n",
      "2021-11-22 09:32:14.086876: I tensorflow/core/grappler/optimizers/custom_graph_optimizer_registry.cc:112] Plugin optimizer for device_type GPU is enabled.\n",
      "2021-11-22 09:32:14.094386: I tensorflow/core/grappler/optimizers/custom_graph_optimizer_registry.cc:112] Plugin optimizer for device_type GPU is enabled.\n"
     ]
    },
    {
     "name": "stdout",
     "output_type": "stream",
     "text": [
      "157/157 [==============================] - 34s 185ms/step - loss: 0.6932 - accuracy: 0.5046 - val_loss: 0.6935 - val_accuracy: 0.4912\n",
      "Epoch 2/5\n",
      "157/157 [==============================] - 26s 165ms/step - loss: 0.6925 - accuracy: 0.5159 - val_loss: 0.6938 - val_accuracy: 0.4976\n",
      "Epoch 3/5\n",
      "157/157 [==============================] - 27s 175ms/step - loss: 0.6900 - accuracy: 0.5306 - val_loss: 0.6727 - val_accuracy: 0.5870\n",
      "Epoch 4/5\n",
      "157/157 [==============================] - 30s 194ms/step - loss: 0.6828 - accuracy: 0.5616 - val_loss: 0.6814 - val_accuracy: 0.5604\n",
      "Epoch 5/5\n",
      "157/157 [==============================] - 30s 193ms/step - loss: 0.6854 - accuracy: 0.5588 - val_loss: 0.6834 - val_accuracy: 0.5568\n",
      "Test results - Loss: 0.6848894357681274 - Accuracy: 55.42800426483154%\n"
     ]
    }
   ],
   "source": [
    "# Define the Keras model\n",
    "model = Sequential()\n",
    "model.add(Embedding(num_distinct_words, embedding_output_dims, input_length=max_sequence_length))\n",
    "model.add(Bidirectional(LSTM(10), merge_mode='sum'))\n",
    "model.add(Dense(1, activation='sigmoid'))\n",
    "\n",
    "# Compile the model\n",
    "model.compile(optimizer=optimizer, loss=loss_function, metrics=additional_metrics)\n",
    "\n",
    "# Give a summary\n",
    "model.summary()\n",
    "\n",
    "# Train the model\n",
    "history = model.fit(padded_inputs, y_train, batch_size=batch_size, epochs=number_of_epochs, verbose=verbosity_mode, validation_split=validation_split)\n",
    "\n",
    "# Test the model after training\n",
    "test_results = model.evaluate(padded_inputs_test, y_test, verbose=False)\n",
    "print(f'Test results - Loss: {test_results[0]} - Accuracy: {100*test_results[1]}%')"
   ]
  },
  {
   "cell_type": "code",
   "execution_count": 55,
   "id": "7d134dbb",
   "metadata": {},
   "outputs": [],
   "source": [
    "def linear_reg(old_embed, new_embed, reg):\n",
    "    rhs = tf.linalg.matmul(old_embed, old_embed, transpose_a=True)\n",
    "    lhs = tf.linalg.matmul(old_embed, new_embed, transpose_a=True)\n",
    "    return tf.linalg.lstsq(rhs, lhs, l2_regularizer=reg)"
   ]
  },
  {
   "cell_type": "code",
   "execution_count": 73,
   "id": "fbd04db2",
   "metadata": {},
   "outputs": [],
   "source": [
    "dist = topic_dist(0)\n",
    "old_embed = dist[:90]\n",
    "new_embed = dist[1:91]\n",
    "trans = linear_reg(old_embed, new_embed, 0.3)"
   ]
  },
  {
   "cell_type": "code",
   "execution_count": 74,
   "id": "ecce0687",
   "metadata": {},
   "outputs": [],
   "source": [
    "pred = tf.linalg.matmul(trans, tf.expand_dims(dist[90], 1))"
   ]
  },
  {
   "cell_type": "code",
   "execution_count": null,
   "id": "585b3e0e",
   "metadata": {},
   "outputs": [],
   "source": []
  },
  {
   "cell_type": "code",
   "execution_count": 77,
   "id": "0f91c0e8",
   "metadata": {},
   "outputs": [
    {
     "data": {
      "text/plain": [
       "<tf.Tensor: shape=(), dtype=float32, numpy=14.248801>"
      ]
     },
     "execution_count": 77,
     "metadata": {},
     "output_type": "execute_result"
    }
   ],
   "source": [
    "tf.math.reduce_sum((pred - tf.expand_dims(dist[91], 1))**2)"
   ]
  },
  {
   "cell_type": "code",
   "execution_count": 78,
   "id": "2a81948c",
   "metadata": {},
   "outputs": [
    {
     "data": {
      "text/plain": [
       "<tf.Tensor: shape=(300, 1), dtype=float32, numpy=\n",
       "array([[7.26384451e-06],\n",
       "       [2.48449482e-02],\n",
       "       [6.56153709e-02],\n",
       "       [9.37536359e-02],\n",
       "       [1.96923763e-01],\n",
       "       [9.95805413e-02],\n",
       "       [4.94867470e-03],\n",
       "       [9.13792551e-02],\n",
       "       [7.67794400e-02],\n",
       "       [3.01532168e-03],\n",
       "       [1.22324377e-02],\n",
       "       [1.47417188e-01],\n",
       "       [1.89990193e-01],\n",
       "       [8.49751830e-02],\n",
       "       [9.94711882e-04],\n",
       "       [1.45701200e-01],\n",
       "       [1.15279993e-03],\n",
       "       [4.35182708e-04],\n",
       "       [3.61793861e-02],\n",
       "       [3.52018774e-02],\n",
       "       [1.39161712e-02],\n",
       "       [1.21387728e-02],\n",
       "       [8.70667025e-02],\n",
       "       [1.88042340e-03],\n",
       "       [1.10588856e-02],\n",
       "       [3.34285409e-03],\n",
       "       [2.63946742e-01],\n",
       "       [1.17867902e-01],\n",
       "       [3.79502773e-02],\n",
       "       [3.09049040e-02],\n",
       "       [3.35333794e-02],\n",
       "       [4.25203890e-03],\n",
       "       [1.48263752e-01],\n",
       "       [9.49576944e-02],\n",
       "       [8.94311294e-02],\n",
       "       [4.36869524e-02],\n",
       "       [3.95513363e-02],\n",
       "       [2.46011559e-03],\n",
       "       [1.33886118e-04],\n",
       "       [3.77165526e-02],\n",
       "       [1.07893413e-02],\n",
       "       [7.88565949e-02],\n",
       "       [1.18523307e-01],\n",
       "       [7.39035383e-02],\n",
       "       [1.59171075e-01],\n",
       "       [3.20393704e-02],\n",
       "       [1.01964716e-02],\n",
       "       [3.13152373e-02],\n",
       "       [6.28756806e-02],\n",
       "       [2.24067573e-03],\n",
       "       [1.20143464e-03],\n",
       "       [7.22802535e-04],\n",
       "       [2.96965204e-02],\n",
       "       [1.48076862e-02],\n",
       "       [3.09400726e-02],\n",
       "       [1.46073429e-02],\n",
       "       [2.62184869e-02],\n",
       "       [8.22378770e-02],\n",
       "       [1.99573318e-04],\n",
       "       [9.53488110e-04],\n",
       "       [2.23518126e-02],\n",
       "       [2.08481521e-04],\n",
       "       [4.89941090e-02],\n",
       "       [2.80647865e-03],\n",
       "       [1.29050386e-04],\n",
       "       [1.90841630e-02],\n",
       "       [1.06717162e-05],\n",
       "       [6.88096732e-02],\n",
       "       [1.91769525e-02],\n",
       "       [2.15697046e-02],\n",
       "       [8.11102688e-02],\n",
       "       [1.20728174e-02],\n",
       "       [1.68281980e-02],\n",
       "       [1.10828981e-01],\n",
       "       [5.18564275e-03],\n",
       "       [2.70360202e-01],\n",
       "       [5.29620796e-03],\n",
       "       [3.06120981e-02],\n",
       "       [1.59182340e-01],\n",
       "       [6.50227710e-04],\n",
       "       [4.57362330e-04],\n",
       "       [5.75578809e-02],\n",
       "       [8.02925043e-03],\n",
       "       [2.24477192e-03],\n",
       "       [9.16262064e-03],\n",
       "       [2.50099506e-03],\n",
       "       [4.38174792e-02],\n",
       "       [8.31793994e-02],\n",
       "       [4.90301214e-02],\n",
       "       [1.57679059e-02],\n",
       "       [1.32296607e-01],\n",
       "       [1.10195488e-01],\n",
       "       [8.10013413e-02],\n",
       "       [8.73804092e-02],\n",
       "       [6.17289823e-03],\n",
       "       [2.46392712e-02],\n",
       "       [1.56916022e-01],\n",
       "       [1.76292174e-02],\n",
       "       [2.91258227e-02],\n",
       "       [5.22580072e-02],\n",
       "       [1.35625824e-02],\n",
       "       [6.25392571e-02],\n",
       "       [1.22139411e-07],\n",
       "       [1.08336378e-03],\n",
       "       [8.50185230e-02],\n",
       "       [2.98321620e-02],\n",
       "       [5.47845755e-03],\n",
       "       [9.13431048e-02],\n",
       "       [6.67558461e-02],\n",
       "       [1.42819971e-01],\n",
       "       [5.07342108e-02],\n",
       "       [1.40091206e-03],\n",
       "       [2.66435612e-02],\n",
       "       [2.82319412e-02],\n",
       "       [8.41773525e-02],\n",
       "       [1.80287972e-01],\n",
       "       [2.06513633e-03],\n",
       "       [7.11146593e-02],\n",
       "       [1.38755593e-06],\n",
       "       [4.35796566e-02],\n",
       "       [1.27568886e-01],\n",
       "       [2.34571728e-03],\n",
       "       [2.72717942e-02],\n",
       "       [3.05767562e-02],\n",
       "       [5.44539578e-02],\n",
       "       [7.95648098e-02],\n",
       "       [1.52257578e-02],\n",
       "       [5.01412936e-02],\n",
       "       [1.55334352e-02],\n",
       "       [1.18210696e-01],\n",
       "       [6.28908572e-04],\n",
       "       [2.50244397e-04],\n",
       "       [1.17453463e-01],\n",
       "       [6.94292830e-03],\n",
       "       [4.84841280e-02],\n",
       "       [8.47842358e-03],\n",
       "       [3.45619246e-02],\n",
       "       [4.95631713e-03],\n",
       "       [3.42538476e-01],\n",
       "       [8.38819798e-03],\n",
       "       [1.21558577e-01],\n",
       "       [3.41132209e-02],\n",
       "       [8.28096792e-02],\n",
       "       [7.92157836e-03],\n",
       "       [2.51077395e-02],\n",
       "       [7.51897171e-02],\n",
       "       [9.51040760e-02],\n",
       "       [8.99774358e-02],\n",
       "       [2.73076929e-02],\n",
       "       [9.67641268e-03],\n",
       "       [1.20678227e-02],\n",
       "       [5.73516171e-03],\n",
       "       [6.98292116e-03],\n",
       "       [6.02172613e-02],\n",
       "       [8.31752643e-02],\n",
       "       [6.21503592e-02],\n",
       "       [7.51763489e-03],\n",
       "       [4.37388982e-04],\n",
       "       [7.90448394e-03],\n",
       "       [6.35094494e-02],\n",
       "       [4.35197055e-02],\n",
       "       [1.76330641e-01],\n",
       "       [1.71887281e-03],\n",
       "       [5.95205799e-02],\n",
       "       [1.42698899e-01],\n",
       "       [1.40519869e-02],\n",
       "       [1.20166630e-01],\n",
       "       [1.02156820e-02],\n",
       "       [1.86261963e-02],\n",
       "       [8.82002932e-04],\n",
       "       [2.39248779e-02],\n",
       "       [3.84097904e-01],\n",
       "       [2.55035939e-05],\n",
       "       [8.43687505e-02],\n",
       "       [1.17514543e-01],\n",
       "       [3.25883063e-03],\n",
       "       [3.61302458e-02],\n",
       "       [1.76753085e-02],\n",
       "       [9.02398378e-02],\n",
       "       [5.46449982e-02],\n",
       "       [6.20617643e-02],\n",
       "       [8.68660882e-02],\n",
       "       [2.12250627e-03],\n",
       "       [1.46647207e-02],\n",
       "       [2.77303271e-02],\n",
       "       [1.63440816e-02],\n",
       "       [3.94414328e-02],\n",
       "       [1.19445644e-01],\n",
       "       [8.03434551e-02],\n",
       "       [7.36017385e-03],\n",
       "       [4.60444744e-06],\n",
       "       [5.36738224e-02],\n",
       "       [7.12702842e-03],\n",
       "       [8.33358988e-03],\n",
       "       [4.51537296e-02],\n",
       "       [3.04281227e-02],\n",
       "       [5.27834473e-03],\n",
       "       [1.89179592e-02],\n",
       "       [5.36449328e-02],\n",
       "       [2.69424431e-02],\n",
       "       [1.32038714e-02],\n",
       "       [2.43192501e-02],\n",
       "       [2.63420641e-02],\n",
       "       [2.83684791e-03],\n",
       "       [5.80421425e-02],\n",
       "       [3.60230617e-02],\n",
       "       [6.01608865e-03],\n",
       "       [3.45704257e-02],\n",
       "       [2.22566746e-06],\n",
       "       [1.34299695e-02],\n",
       "       [4.74271551e-03],\n",
       "       [6.51836349e-03],\n",
       "       [8.54515191e-03],\n",
       "       [1.54296448e-03],\n",
       "       [2.62243897e-02],\n",
       "       [5.49318036e-03],\n",
       "       [1.75871179e-01],\n",
       "       [9.78410989e-02],\n",
       "       [6.28941401e-04],\n",
       "       [8.21803045e-03],\n",
       "       [6.83931261e-02],\n",
       "       [7.34796934e-03],\n",
       "       [9.36205906e-04],\n",
       "       [4.44213636e-02],\n",
       "       [7.65786972e-03],\n",
       "       [2.23802887e-02],\n",
       "       [2.85326876e-02],\n",
       "       [2.93376911e-02],\n",
       "       [1.73022412e-02],\n",
       "       [3.62470113e-02],\n",
       "       [1.79668553e-02],\n",
       "       [5.37163988e-02],\n",
       "       [2.60677683e-04],\n",
       "       [2.45666900e-03],\n",
       "       [5.18044829e-02],\n",
       "       [6.22068183e-05],\n",
       "       [5.52027747e-02],\n",
       "       [1.97746873e-01],\n",
       "       [1.53576012e-03],\n",
       "       [1.24369469e-02],\n",
       "       [4.35760187e-04],\n",
       "       [5.97307198e-02],\n",
       "       [1.09354891e-01],\n",
       "       [1.38622639e-03],\n",
       "       [2.32840534e-02],\n",
       "       [2.09353771e-03],\n",
       "       [3.07615884e-02],\n",
       "       [6.42468035e-02],\n",
       "       [3.96331511e-02],\n",
       "       [4.19487245e-02],\n",
       "       [2.20709550e-03],\n",
       "       [1.88067377e-01],\n",
       "       [2.29411535e-02],\n",
       "       [4.46401797e-02],\n",
       "       [1.01752661e-01],\n",
       "       [7.64715602e-04],\n",
       "       [5.63806519e-02],\n",
       "       [8.61409120e-03],\n",
       "       [6.62327483e-02],\n",
       "       [9.21119153e-02],\n",
       "       [8.22646394e-02],\n",
       "       [1.42063228e-02],\n",
       "       [3.59177627e-02],\n",
       "       [3.34488548e-04],\n",
       "       [5.63903246e-03],\n",
       "       [6.12581819e-02],\n",
       "       [1.12909032e-02],\n",
       "       [1.05474725e-01],\n",
       "       [3.62280553e-04],\n",
       "       [5.26499096e-03],\n",
       "       [8.67201537e-02],\n",
       "       [5.47587946e-02],\n",
       "       [1.03968959e-02],\n",
       "       [9.98864695e-03],\n",
       "       [1.42660616e-02],\n",
       "       [3.68785523e-02],\n",
       "       [1.39584369e-03],\n",
       "       [2.32756004e-01],\n",
       "       [8.03250447e-03],\n",
       "       [1.20171858e-02],\n",
       "       [5.79905622e-02],\n",
       "       [3.63607542e-04],\n",
       "       [1.14276640e-01],\n",
       "       [1.11546498e-02],\n",
       "       [9.22572315e-02],\n",
       "       [9.91460402e-03],\n",
       "       [9.35072750e-02],\n",
       "       [7.90321007e-02],\n",
       "       [5.91745824e-02],\n",
       "       [4.15388830e-02],\n",
       "       [4.37121606e-03],\n",
       "       [1.41604617e-03],\n",
       "       [1.14713974e-01],\n",
       "       [1.76864006e-02],\n",
       "       [1.78645197e-02],\n",
       "       [4.29457781e-04],\n",
       "       [3.82981189e-02],\n",
       "       [4.16611850e-01],\n",
       "       [1.08979326e-02],\n",
       "       [1.98081546e-02]], dtype=float32)>"
      ]
     },
     "execution_count": 78,
     "metadata": {},
     "output_type": "execute_result"
    }
   ],
   "source": [
    "(pred - tf.expand_dims(dist[91], 1))**2"
   ]
  },
  {
   "cell_type": "code",
   "execution_count": null,
   "id": "70053652",
   "metadata": {},
   "outputs": [],
   "source": []
  }
 ],
 "metadata": {
  "kernelspec": {
   "display_name": "Python 3 (ipykernel)",
   "language": "python",
   "name": "python3"
  },
  "language_info": {
   "codemirror_mode": {
    "name": "ipython",
    "version": 3
   },
   "file_extension": ".py",
   "mimetype": "text/x-python",
   "name": "python",
   "nbconvert_exporter": "python",
   "pygments_lexer": "ipython3",
   "version": "3.9.7"
  }
 },
 "nbformat": 4,
 "nbformat_minor": 5
}

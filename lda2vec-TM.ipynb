{
 "cells": [
  {
   "cell_type": "markdown",
   "id": "70620997",
   "metadata": {},
   "source": [
    "# Temporal lda2vec Model\n",
    "\n",
    "We will implement both the lda2vec-TM model as well as a RNN to predict future document embeddings."
   ]
  },
  {
   "cell_type": "code",
   "execution_count": 1,
   "id": "49201781",
   "metadata": {},
   "outputs": [
    {
     "name": "stdout",
     "output_type": "stream",
     "text": [
      "Found GPU at: /device:GPU:0Metal device set to: Apple M1\n",
      "\n"
     ]
    },
    {
     "name": "stderr",
     "output_type": "stream",
     "text": [
      "2021-11-26 20:22:42.193010: I tensorflow/core/common_runtime/pluggable_device/pluggable_device_factory.cc:305] Could not identify NUMA node of platform GPU ID 0, defaulting to 0. Your kernel may not have been built with NUMA support.\n",
      "2021-11-26 20:22:42.193091: I tensorflow/core/common_runtime/pluggable_device/pluggable_device_factory.cc:271] Created TensorFlow device (/device:GPU:0 with 0 MB memory) -> physical PluggableDevice (device: 0, name: METAL, pci bus id: <undefined>)\n"
     ]
    }
   ],
   "source": [
    "import tensorflow as tf\n",
    "device_name = tf.test.gpu_device_name()\n",
    "if device_name != '/device:GPU:0':\n",
    "  raise SystemError('GPU device not found')\n",
    "print('Found GPU at: {}'.format(device_name))\n",
    "import numpy as np\n",
    "import pickle\n",
    "import pandas as pd\n",
    "import keras"
   ]
  },
  {
   "cell_type": "code",
   "execution_count": 2,
   "id": "dc7043c7",
   "metadata": {},
   "outputs": [],
   "source": [
    "import os\n",
    "os.environ['TF_CPP_MIN_LOG_LEVEL'] = '3'"
   ]
  },
  {
   "cell_type": "markdown",
   "id": "0d90ee8f",
   "metadata": {},
   "source": [
    "## Retrieve Embeddings\n",
    "\n",
    "We will retrieve back the embeddings and dictionary."
   ]
  },
  {
   "cell_type": "code",
   "execution_count": 3,
   "id": "35338b0a",
   "metadata": {},
   "outputs": [],
   "source": [
    "def load_embed():\n",
    "    doc_embed   = tf.constant(np.load(f\"doc_embed_col.npy\"))\n",
    "    word_embed  = tf.constant(np.load(f\"word_embed_col.npy\"))\n",
    "    topic_embed = tf.constant(np.load(f\"topic_embed_col.npy\"))\n",
    "    return (doc_embed, word_embed, topic_embed)"
   ]
  },
  {
   "cell_type": "code",
   "execution_count": 4,
   "id": "3447306d",
   "metadata": {},
   "outputs": [],
   "source": [
    "def load_word_dict(idx_to_word):\n",
    "    if idx_to_word:\n",
    "        file = open(f\"doc_collect/idx_to_word.pickle\", \"rb\")\n",
    "        word_dict = pickle.load(file)\n",
    "    else:\n",
    "        file = open(f\"doc_collect/word_to_idx.pickle\", \"rb\")\n",
    "        word_dict = pickle.load(file)\n",
    "    return word_dict"
   ]
  },
  {
   "cell_type": "code",
   "execution_count": 5,
   "id": "e27cdacb",
   "metadata": {},
   "outputs": [],
   "source": [
    "def word_embed_lookup(word):\n",
    "    word_embed = load_embed()[1]\n",
    "    word_dict  = load_word_dict(False)\n",
    "    word_ind   = word_dict[word]\n",
    "    return word_embed[word_ind]"
   ]
  },
  {
   "cell_type": "code",
   "execution_count": 6,
   "id": "9faf8fe1",
   "metadata": {},
   "outputs": [],
   "source": [
    "def word_idx_lookup(word):\n",
    "    word_dict = load_word_dict(False)\n",
    "    return word_dict[word]"
   ]
  },
  {
   "cell_type": "markdown",
   "id": "76706b53",
   "metadata": {},
   "source": [
    "## Modeling Topic Distribution\n",
    "\n",
    "We now model the topic distribution as a linear model to predict future documents."
   ]
  },
  {
   "cell_type": "code",
   "execution_count": 7,
   "id": "036ea6f8",
   "metadata": {},
   "outputs": [],
   "source": [
    "def topic_dist():\n",
    "    embeds = load_embed()\n",
    "    doc_embed = embeds[0]\n",
    "    topic_embed = embeds[2]\n",
    "    norm_doc = tf.nn.softmax(doc_embed)\n",
    "    topic_dist = tf.linalg.matmul(norm_doc, topic_embed)\n",
    "    return topic_dist"
   ]
  },
  {
   "cell_type": "markdown",
   "id": "a4eb3a3d",
   "metadata": {},
   "source": [
    "## Neural Network Regression\n",
    "\n",
    "We will implement a dense neural network to obtain document vectors."
   ]
  },
  {
   "cell_type": "code",
   "execution_count": 8,
   "id": "e754bfed",
   "metadata": {},
   "outputs": [],
   "source": [
    "# convert into dataset matrix\n",
    "def convertToMatrix(data, step):\n",
    "    X, Y = [], []\n",
    "    for i in range(data.shape[0]-step):\n",
    "        d = i+step\n",
    "        X.append(data[i:d])\n",
    "        Y.append(data[d])\n",
    "    return tf.convert_to_tensor(X), tf.convert_to_tensor(Y)"
   ]
  },
  {
   "cell_type": "code",
   "execution_count": 9,
   "id": "73af99ef",
   "metadata": {},
   "outputs": [
    {
     "name": "stderr",
     "output_type": "stream",
     "text": [
      "2021-11-26 20:22:42.395344: I tensorflow/core/common_runtime/pluggable_device/pluggable_device_factory.cc:305] Could not identify NUMA node of platform GPU ID 0, defaulting to 0. Your kernel may not have been built with NUMA support.\n",
      "2021-11-26 20:22:42.395372: I tensorflow/core/common_runtime/pluggable_device/pluggable_device_factory.cc:271] Created TensorFlow device (/job:localhost/replica:0/task:0/device:GPU:0 with 0 MB memory) -> physical PluggableDevice (device: 0, name: METAL, pci bus id: <undefined>)\n"
     ]
    }
   ],
   "source": [
    "dist = topic_dist()\n",
    "train = dist[:240,:]\n",
    "test = dist[240:,:]\n",
    "step = 10"
   ]
  },
  {
   "cell_type": "code",
   "execution_count": 10,
   "id": "8ba63b61",
   "metadata": {},
   "outputs": [],
   "source": [
    "trainX, trainY = convertToMatrix(train, step)\n",
    "testX, testY = convertToMatrix(test, step)"
   ]
  },
  {
   "cell_type": "code",
   "execution_count": 11,
   "id": "504e4e53",
   "metadata": {},
   "outputs": [
    {
     "name": "stdout",
     "output_type": "stream",
     "text": [
      "Model: \"sequential\"\n",
      "_________________________________________________________________\n",
      "Layer (type)                 Output Shape              Param #   \n",
      "=================================================================\n",
      "simple_rnn (SimpleRNN)       (None, 300)               180300    \n",
      "_________________________________________________________________\n",
      "dense (Dense)                (None, 300)               90300     \n",
      "_________________________________________________________________\n",
      "dense_1 (Dense)              (None, 300)               90300     \n",
      "=================================================================\n",
      "Total params: 360,900\n",
      "Trainable params: 360,900\n",
      "Non-trainable params: 0\n",
      "_________________________________________________________________\n"
     ]
    }
   ],
   "source": [
    "model = tf.keras.Sequential()\n",
    "model.add(tf.keras.layers.SimpleRNN(units=300, input_shape=(step,300), activation=\"tanh\"))\n",
    "model.add(tf.keras.layers.Dense(300, activation=\"tanh\"))\n",
    "model.add(tf.keras.layers.Dense(300))\n",
    "model.compile(loss='cosine_similarity', optimizer='Adam')\n",
    "model.summary()"
   ]
  },
  {
   "cell_type": "code",
   "execution_count": 12,
   "id": "4df336f5",
   "metadata": {},
   "outputs": [
    {
     "name": "stdout",
     "output_type": "stream",
     "text": [
      "Epoch 1/10\n"
     ]
    },
    {
     "name": "stderr",
     "output_type": "stream",
     "text": [
      "2021-11-26 20:22:43.662821: I tensorflow/compiler/mlir/mlir_graph_optimization_pass.cc:185] None of the MLIR Optimization Passes are enabled (registered 2)\n",
      "2021-11-26 20:22:43.662983: W tensorflow/core/platform/profile_utils/cpu_utils.cc:128] Failed to get CPU frequency: 0 Hz\n"
     ]
    },
    {
     "name": "stdout",
     "output_type": "stream",
     "text": [
      "11/11 [==============================] - 1s 67ms/step - loss: -0.5082 - val_loss: -0.6701\n",
      "Epoch 2/10\n",
      "11/11 [==============================] - 1s 48ms/step - loss: -0.6814 - val_loss: -0.6847\n",
      "Epoch 3/10\n",
      "11/11 [==============================] - 1s 46ms/step - loss: -0.6900 - val_loss: -0.6872\n",
      "Epoch 4/10\n",
      "11/11 [==============================] - 1s 46ms/step - loss: -0.6927 - val_loss: -0.6861\n",
      "Epoch 5/10\n",
      "11/11 [==============================] - 1s 51ms/step - loss: -0.6940 - val_loss: -0.6885\n",
      "Epoch 6/10\n",
      "11/11 [==============================] - 1s 50ms/step - loss: -0.6936 - val_loss: -0.6877\n",
      "Epoch 7/10\n",
      "11/11 [==============================] - 1s 46ms/step - loss: -0.6950 - val_loss: -0.6891\n",
      "Epoch 8/10\n",
      "11/11 [==============================] - 1s 46ms/step - loss: -0.6967 - val_loss: -0.6885\n",
      "Epoch 9/10\n",
      "11/11 [==============================] - 1s 46ms/step - loss: -0.6987 - val_loss: -0.6880\n",
      "Epoch 10/10\n",
      "11/11 [==============================] - 1s 48ms/step - loss: -0.7007 - val_loss: -0.6880\n"
     ]
    },
    {
     "data": {
      "text/plain": [
       "<keras.callbacks.History at 0x288173130>"
      ]
     },
     "execution_count": 12,
     "metadata": {},
     "output_type": "execute_result"
    }
   ],
   "source": [
    "model.fit(trainX,trainY, epochs=10, batch_size=20, validation_split=0.1)"
   ]
  },
  {
   "cell_type": "code",
   "execution_count": 19,
   "id": "64afdcee",
   "metadata": {},
   "outputs": [],
   "source": [
    "trainPredict = model.predict(trainX)"
   ]
  },
  {
   "cell_type": "code",
   "execution_count": 20,
   "id": "7b0f2986",
   "metadata": {},
   "outputs": [],
   "source": [
    "testPredict= model.predict(testX)"
   ]
  },
  {
   "cell_type": "code",
   "execution_count": 21,
   "id": "c712d4b2",
   "metadata": {},
   "outputs": [],
   "source": [
    "predicted=tf.concat([trainPredict,testPredict],axis=0)"
   ]
  },
  {
   "cell_type": "code",
   "execution_count": 22,
   "id": "b742afee",
   "metadata": {},
   "outputs": [],
   "source": [
    "trainScore = model.evaluate(trainX, trainY, verbose=0)"
   ]
  },
  {
   "cell_type": "code",
   "execution_count": 23,
   "id": "d4a38455",
   "metadata": {},
   "outputs": [],
   "source": [
    "testScore = model.evaluate(testX, testY, verbose=0)"
   ]
  },
  {
   "cell_type": "code",
   "execution_count": 24,
   "id": "15a508e0",
   "metadata": {},
   "outputs": [
    {
     "data": {
      "text/plain": [
       "-0.683212161064148"
      ]
     },
     "execution_count": 24,
     "metadata": {},
     "output_type": "execute_result"
    }
   ],
   "source": [
    "testScore"
   ]
  },
  {
   "cell_type": "code",
   "execution_count": null,
   "id": "df59930f",
   "metadata": {},
   "outputs": [],
   "source": []
  }
 ],
 "metadata": {
  "kernelspec": {
   "display_name": "Python 3 (ipykernel)",
   "language": "python",
   "name": "python3"
  },
  "language_info": {
   "codemirror_mode": {
    "name": "ipython",
    "version": 3
   },
   "file_extension": ".py",
   "mimetype": "text/x-python",
   "name": "python",
   "nbconvert_exporter": "python",
   "pygments_lexer": "ipython3",
   "version": "3.9.7"
  }
 },
 "nbformat": 4,
 "nbformat_minor": 5
}

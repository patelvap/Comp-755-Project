{
 "cells": [
  {
   "cell_type": "markdown",
   "id": "70620997",
   "metadata": {},
   "source": [
    "# Temporal lda2vec Model\n",
    "\n",
    "We will implement both the lda2vec-TM model as well as a RNN to predict future document embeddings."
   ]
  },
  {
   "cell_type": "code",
   "execution_count": 1,
   "id": "49201781",
   "metadata": {},
   "outputs": [
    {
     "name": "stdout",
     "output_type": "stream",
     "text": [
      "Found GPU at: /device:GPU:0Metal device set to: Apple M1\n",
      "\n"
     ]
    },
    {
     "name": "stderr",
     "output_type": "stream",
     "text": [
      "2021-11-29 22:11:46.427739: I tensorflow/core/common_runtime/pluggable_device/pluggable_device_factory.cc:305] Could not identify NUMA node of platform GPU ID 0, defaulting to 0. Your kernel may not have been built with NUMA support.\n",
      "2021-11-29 22:11:46.427853: I tensorflow/core/common_runtime/pluggable_device/pluggable_device_factory.cc:271] Created TensorFlow device (/device:GPU:0 with 0 MB memory) -> physical PluggableDevice (device: 0, name: METAL, pci bus id: <undefined>)\n"
     ]
    }
   ],
   "source": [
    "import tensorflow as tf\n",
    "device_name = tf.test.gpu_device_name()\n",
    "if device_name != '/device:GPU:0':\n",
    "  raise SystemError('GPU device not found')\n",
    "print('Found GPU at: {}'.format(device_name))\n",
    "import numpy as np\n",
    "import pickle\n",
    "import pandas as pd\n",
    "import keras\n",
    "import matplotlib.pyplot as plt"
   ]
  },
  {
   "cell_type": "code",
   "execution_count": 2,
   "id": "dc7043c7",
   "metadata": {},
   "outputs": [],
   "source": [
    "import os\n",
    "os.environ['TF_CPP_MIN_LOG_LEVEL'] = '3'"
   ]
  },
  {
   "cell_type": "markdown",
   "id": "0d90ee8f",
   "metadata": {},
   "source": [
    "## Retrieve Embeddings\n",
    "\n",
    "We will retrieve back the embeddings and dictionary."
   ]
  },
  {
   "cell_type": "code",
   "execution_count": 3,
   "id": "35338b0a",
   "metadata": {},
   "outputs": [],
   "source": [
    "def load_embed():\n",
    "    doc_embed   = tf.constant(np.load(f\"doc_embed_col.npy\"))\n",
    "    word_embed  = tf.constant(np.load(f\"word_embed_col.npy\"))\n",
    "    topic_embed = tf.constant(np.load(f\"topic_embed_col.npy\"))\n",
    "    return (doc_embed, word_embed, topic_embed)"
   ]
  },
  {
   "cell_type": "code",
   "execution_count": 4,
   "id": "3447306d",
   "metadata": {},
   "outputs": [],
   "source": [
    "def load_word_dict(idx_to_word):\n",
    "    if idx_to_word:\n",
    "        file = open(f\"doc_collect/idx_to_word.pickle\", \"rb\")\n",
    "        word_dict = pickle.load(file)\n",
    "    else:\n",
    "        file = open(f\"doc_collect/word_to_idx.pickle\", \"rb\")\n",
    "        word_dict = pickle.load(file)\n",
    "    return word_dict"
   ]
  },
  {
   "cell_type": "code",
   "execution_count": 5,
   "id": "e27cdacb",
   "metadata": {},
   "outputs": [],
   "source": [
    "def word_embed_lookup(word):\n",
    "    word_embed = load_embed()[1]\n",
    "    word_dict  = load_word_dict(False)\n",
    "    word_ind   = word_dict[word]\n",
    "    return word_embed[word_ind]"
   ]
  },
  {
   "cell_type": "code",
   "execution_count": 6,
   "id": "9faf8fe1",
   "metadata": {},
   "outputs": [],
   "source": [
    "def word_idx_lookup(word):\n",
    "    word_dict = load_word_dict(False)\n",
    "    return word_dict[word]"
   ]
  },
  {
   "cell_type": "markdown",
   "id": "0f1ecdaf",
   "metadata": {},
   "source": [
    "## Topic Covariance Heatmap\n",
    "We will plot the topic covariance heatmap."
   ]
  },
  {
   "cell_type": "code",
   "execution_count": 7,
   "id": "4caa76e3",
   "metadata": {},
   "outputs": [
    {
     "name": "stderr",
     "output_type": "stream",
     "text": [
      "2021-11-29 22:11:46.987235: I tensorflow/core/common_runtime/pluggable_device/pluggable_device_factory.cc:305] Could not identify NUMA node of platform GPU ID 0, defaulting to 0. Your kernel may not have been built with NUMA support.\n",
      "2021-11-29 22:11:46.987253: I tensorflow/core/common_runtime/pluggable_device/pluggable_device_factory.cc:271] Created TensorFlow device (/job:localhost/replica:0/task:0/device:GPU:0 with 0 MB memory) -> physical PluggableDevice (device: 0, name: METAL, pci bus id: <undefined>)\n"
     ]
    },
    {
     "data": {
      "text/plain": [
       "<matplotlib.colorbar.Colorbar at 0x160a46dc0>"
      ]
     },
     "execution_count": 7,
     "metadata": {},
     "output_type": "execute_result"
    },
    {
     "data": {
      "image/png": "[encoded data removed]",
      "text/plain": [
       "<Figure size 432x288 with 2 Axes>"
      ]
     },
     "metadata": {
      "needs_background": "light"
     },
     "output_type": "display_data"
    }
   ],
   "source": [
    "topic_embed = load_embed()[2]\n",
    "topic_embed = topic_embed/tf.expand_dims(tf.linalg.norm(topic_embed),0)\n",
    "topic_embed = topic_embed.numpy()\n",
    "plt.imshow(np.dot(topic_embed, topic_embed.T))\n",
    "plt.colorbar()"
   ]
  },
  {
   "cell_type": "markdown",
   "id": "76706b53",
   "metadata": {},
   "source": [
    "## Modeling Topic Distribution\n",
    "\n",
    "We now model the topic distribution as a linear model to predict future documents."
   ]
  },
  {
   "cell_type": "code",
   "execution_count": 8,
   "id": "036ea6f8",
   "metadata": {},
   "outputs": [],
   "source": [
    "def topic_dist():\n",
    "    embeds = load_embed()\n",
    "    doc_embed = embeds[0]\n",
    "    topic_embed = embeds[2]\n",
    "    norm_doc = tf.nn.softmax(doc_embed)\n",
    "    topic_dist = tf.linalg.matmul(norm_doc, topic_embed)\n",
    "    return topic_dist"
   ]
  },
  {
   "cell_type": "markdown",
   "id": "43812e32",
   "metadata": {},
   "source": [
    "## Linear Topic Regression\n",
    "We will model the topic distribution over time as a linear model to predict future documents"
   ]
  },
  {
   "cell_type": "code",
   "execution_count": 9,
   "id": "6ad2bff8",
   "metadata": {},
   "outputs": [],
   "source": [
    "# Get transition matrix for training set\n",
    "def transition():\n",
    "    dist = topic_dist()[:240]\n",
    "    old_embed = dist[:239]\n",
    "    new_embed = dist[1:]\n",
    "    rhs = tf.linalg.matmul(tf.transpose(old_embed), old_embed)\n",
    "    lhs = tf.linalg.matmul(tf.transpose(old_embed), new_embed)\n",
    "    return tf.linalg.lstsq(lhs, rhs, l2_regularizer=0.1)"
   ]
  },
  {
   "cell_type": "code",
   "execution_count": 10,
   "id": "b29dba6b",
   "metadata": {},
   "outputs": [
    {
     "name": "stdout",
     "output_type": "stream",
     "text": [
      "Mean square error: 0.609071\n",
      "Average cosine similarity: 0.13105160689328688\n"
     ]
    }
   ],
   "source": [
    "# Test transition on testing set\n",
    "test = topic_dist()[240:]\n",
    "input_embed = test[:59]\n",
    "out_embed = test[1:60].numpy()\n",
    "pred = tf.linalg.matmul(input_embed, transition()).numpy()\n",
    "print(\"Mean square error:\", np.mean((pred - out_embed)**2))\n",
    "norm_pred = pred/np.reshape(np.linalg.norm(pred,axis=1), (59,1))\n",
    "norm_out = out_embed/np.reshape(np.linalg.norm(out_embed,axis=1), (59,1))\n",
    "cosine = 0\n",
    "for i in range(59):\n",
    "    cosine += np.dot(norm_pred[i], norm_out[i].T)\n",
    "print(\"Average cosine similarity:\", cosine/59)"
   ]
  },
  {
   "cell_type": "code",
   "execution_count": 11,
   "id": "601f3b01",
   "metadata": {},
   "outputs": [
    {
     "data": {
      "text/plain": [
       "<matplotlib.colorbar.Colorbar at 0x1617b8520>"
      ]
     },
     "execution_count": 11,
     "metadata": {},
     "output_type": "execute_result"
    },
    {
     "data": {
      "image/png": "[encoded data removed]",
      "text/plain": [
       "<Figure size 432x288 with 2 Axes>"
      ]
     },
     "metadata": {
      "needs_background": "light"
     },
     "output_type": "display_data"
    }
   ],
   "source": [
    "plt.imshow(transition())\n",
    "plt.colorbar()"
   ]
  },
  {
   "cell_type": "markdown",
   "id": "a4eb3a3d",
   "metadata": {},
   "source": [
    "## Neural Network Regression\n",
    "\n",
    "We will implement a recurrent neural network to obtain document vectors."
   ]
  },
  {
   "cell_type": "code",
   "execution_count": 12,
   "id": "58bde941",
   "metadata": {},
   "outputs": [],
   "source": [
    "# convert into dataset matrix\n",
    "def convertToMatrix(data, step):\n",
    "    X, Y = [], []\n",
    "    for i in range(data.shape[0]-step):\n",
    "        d = i+step\n",
    "        X.append(data[i:d])\n",
    "        Y.append(data[d])\n",
    "    return tf.convert_to_tensor(X), tf.convert_to_tensor(Y)"
   ]
  },
  {
   "cell_type": "code",
   "execution_count": 13,
   "id": "bf05b558",
   "metadata": {},
   "outputs": [],
   "source": [
    "dist = topic_dist()\n",
    "idxs_train = list(range(0))+list(range(60,300))\n",
    "idxs_test = list(range(60))\n",
    "train = tf.gather(dist, idxs_train)\n",
    "test = tf.gather(dist, idxs_test)\n",
    "step = 10"
   ]
  },
  {
   "cell_type": "code",
   "execution_count": 14,
   "id": "bcb4ee50",
   "metadata": {},
   "outputs": [],
   "source": [
    "trainX, trainY = convertToMatrix(train, step)\n",
    "testX, testY = convertToMatrix(test, step)"
   ]
  },
  {
   "cell_type": "code",
   "execution_count": 15,
   "id": "504e4e53",
   "metadata": {},
   "outputs": [
    {
     "name": "stdout",
     "output_type": "stream",
     "text": [
      "Model: \"sequential\"\n",
      "_________________________________________________________________\n",
      "Layer (type)                 Output Shape              Param #   \n",
      "=================================================================\n",
      "gru (GRU)                    (None, 10, 300)           541800    \n",
      "_________________________________________________________________\n",
      "simple_rnn (SimpleRNN)       (None, 300)               180300    \n",
      "_________________________________________________________________\n",
      "dense (Dense)                (None, 300)               90300     \n",
      "=================================================================\n",
      "Total params: 812,400\n",
      "Trainable params: 812,400\n",
      "Non-trainable params: 0\n",
      "_________________________________________________________________\n"
     ]
    }
   ],
   "source": [
    "model = tf.keras.Sequential()\n",
    "#model.add(tf.keras.layers.Input(shape=(step,300)))\n",
    "#model.add(tf.keras.layers.Bidirectional(tf.keras.layers.GRU(300, return_sequences=True)))\n",
    "model.add(tf.keras.layers.GRU(300, input_shape=(step,300), return_sequences=True))\n",
    "model.add(tf.keras.layers.SimpleRNN(units=300))\n",
    "#model.add(tf.keras.layers.Dense(300, activation=\"tanh\"))\n",
    "model.add(tf.keras.layers.Dense(300))\n",
    "model.compile(loss='cosine_similarity', optimizer='Adam')\n",
    "model.summary()"
   ]
  },
  {
   "cell_type": "code",
   "execution_count": 16,
   "id": "f8d87e2c",
   "metadata": {
    "scrolled": false
   },
   "outputs": [
    {
     "name": "stdout",
     "output_type": "stream",
     "text": [
      "Epoch 1/15\n"
     ]
    },
    {
     "name": "stderr",
     "output_type": "stream",
     "text": [
      "2021-11-29 22:11:48.552838: I tensorflow/compiler/mlir/mlir_graph_optimization_pass.cc:185] None of the MLIR Optimization Passes are enabled (registered 2)\n",
      "2021-11-29 22:11:48.553019: W tensorflow/core/platform/profile_utils/cpu_utils.cc:128] Failed to get CPU frequency: 0 Hz\n"
     ]
    },
    {
     "name": "stdout",
     "output_type": "stream",
     "text": [
      "11/11 [==============================] - 2s 107ms/step - loss: -0.4888 - val_loss: -0.6767\n",
      "Epoch 2/15\n",
      "11/11 [==============================] - 1s 73ms/step - loss: -0.6745 - val_loss: -0.6991\n",
      "Epoch 3/15\n",
      "11/11 [==============================] - 1s 73ms/step - loss: -0.6832 - val_loss: -0.7007\n",
      "Epoch 4/15\n",
      "11/11 [==============================] - 1s 73ms/step - loss: -0.6865 - val_loss: -0.6973\n",
      "Epoch 5/15\n",
      "11/11 [==============================] - 1s 73ms/step - loss: -0.6870 - val_loss: -0.6979\n",
      "Epoch 6/15\n",
      "11/11 [==============================] - 1s 72ms/step - loss: -0.6867 - val_loss: -0.6992\n",
      "Epoch 7/15\n",
      "11/11 [==============================] - 1s 72ms/step - loss: -0.6879 - val_loss: -0.7008\n",
      "Epoch 8/15\n",
      "11/11 [==============================] - 1s 72ms/step - loss: -0.6889 - val_loss: -0.7016\n",
      "Epoch 9/15\n",
      "11/11 [==============================] - 1s 73ms/step - loss: -0.6881 - val_loss: -0.7000\n",
      "Epoch 10/15\n",
      "11/11 [==============================] - 1s 72ms/step - loss: -0.6887 - val_loss: -0.7016\n",
      "Epoch 11/15\n",
      "11/11 [==============================] - 1s 72ms/step - loss: -0.6896 - val_loss: -0.6962\n",
      "Epoch 12/15\n",
      "11/11 [==============================] - 1s 72ms/step - loss: -0.6913 - val_loss: -0.6987\n",
      "Epoch 13/15\n",
      "11/11 [==============================] - 1s 73ms/step - loss: -0.6920 - val_loss: -0.6965\n",
      "Epoch 14/15\n",
      "11/11 [==============================] - 1s 72ms/step - loss: -0.6933 - val_loss: -0.6994\n",
      "Epoch 15/15\n",
      "11/11 [==============================] - 1s 72ms/step - loss: -0.6926 - val_loss: -0.6949\n"
     ]
    },
    {
     "data": {
      "text/plain": [
       "<keras.callbacks.History at 0x282351c40>"
      ]
     },
     "execution_count": 16,
     "metadata": {},
     "output_type": "execute_result"
    }
   ],
   "source": [
    "model.fit(trainX,trainY, epochs=15, batch_size=20, validation_split=0.1)"
   ]
  },
  {
   "cell_type": "code",
   "execution_count": 17,
   "id": "b01e4eff",
   "metadata": {},
   "outputs": [
    {
     "name": "stdout",
     "output_type": "stream",
     "text": [
      "8/8 [==============================] - 0s 16ms/step - loss: -0.6974\n"
     ]
    }
   ],
   "source": [
    "trainScore = model.evaluate(trainX, trainY)"
   ]
  },
  {
   "cell_type": "code",
   "execution_count": 18,
   "id": "e419cbda",
   "metadata": {},
   "outputs": [
    {
     "name": "stdout",
     "output_type": "stream",
     "text": [
      "2/2 [==============================] - 0s 34ms/step - loss: -0.6915\n"
     ]
    }
   ],
   "source": [
    "testScore = model.evaluate(testX, testY)"
   ]
  },
  {
   "cell_type": "code",
   "execution_count": 19,
   "id": "202a438c",
   "metadata": {},
   "outputs": [],
   "source": [
    "pred = tf.expand_dims(dist[-step:],0)"
   ]
  },
  {
   "cell_type": "code",
   "execution_count": 20,
   "id": "e273261f",
   "metadata": {},
   "outputs": [],
   "source": [
    "next_doc = tf.expand_dims(model.predict(pred)[0],1)"
   ]
  },
  {
   "cell_type": "code",
   "execution_count": 21,
   "id": "48bd5b33",
   "metadata": {
    "scrolled": true
   },
   "outputs": [],
   "source": [
    "next_doc_weights = tf.linalg.lstsq(tf.transpose(load_embed()[2]), next_doc)"
   ]
  },
  {
   "cell_type": "code",
   "execution_count": 22,
   "id": "bdf7cb96",
   "metadata": {},
   "outputs": [],
   "source": [
    "norm_doc = next_doc/tf.linalg.norm(next_doc)"
   ]
  },
  {
   "cell_type": "code",
   "execution_count": 23,
   "id": "f4767be5",
   "metadata": {},
   "outputs": [],
   "source": [
    "cosine = tf.linalg.matmul(load_embed()[1], norm_doc).numpy()"
   ]
  },
  {
   "cell_type": "code",
   "execution_count": 24,
   "id": "404ad5ee",
   "metadata": {},
   "outputs": [],
   "source": [
    "cosine = np.squeeze(cosine)"
   ]
  },
  {
   "cell_type": "code",
   "execution_count": 25,
   "id": "21a60101",
   "metadata": {},
   "outputs": [],
   "source": [
    "word_doc_idxs = np.argsort(cosine)"
   ]
  },
  {
   "cell_type": "code",
   "execution_count": 26,
   "id": "5b30bf2f",
   "metadata": {},
   "outputs": [],
   "source": [
    "word_dict = load_word_dict(True)"
   ]
  },
  {
   "cell_type": "code",
   "execution_count": 27,
   "id": "e72e1b4a",
   "metadata": {},
   "outputs": [
    {
     "name": "stdout",
     "output_type": "stream",
     "text": [
      "algorithm\n",
      "given\n",
      "training\n",
      "learning\n",
      "model\n",
      "estimation\n",
      "models\n",
      "figure\n",
      "method\n",
      "note\n",
      "methods\n",
      "algorithms\n",
      "following\n",
      "nips\n",
      "consider\n",
      "based\n",
      "optimal\n",
      "step\n",
      "corresponding\n",
      "time\n",
      "respectively\n",
      "linear\n",
      "similar\n",
      "shown\n",
      "general\n",
      "theorem\n",
      "optimization\n",
      "neural\n",
      "approach\n"
     ]
    }
   ],
   "source": [
    "for i in range(1,30):\n",
    "    print(word_dict[word_doc_idxs[-i]])"
   ]
  },
  {
   "cell_type": "code",
   "execution_count": 28,
   "id": "78592f37",
   "metadata": {},
   "outputs": [
    {
     "data": {
      "text/plain": [
       "-0.6837000000000001"
      ]
     },
     "execution_count": 28,
     "metadata": {},
     "output_type": "execute_result"
    }
   ],
   "source": [
    "(-0.6849-0.6786-0.6810-0.6825-0.6915)/5"
   ]
  },
  {
   "cell_type": "code",
   "execution_count": null,
   "id": "6693c035",
   "metadata": {},
   "outputs": [],
   "source": []
  }
 ],
 "metadata": {
  "kernelspec": {
   "display_name": "Python 3 (ipykernel)",
   "language": "python",
   "name": "python3"
  },
  "language_info": {
   "codemirror_mode": {
    "name": "ipython",
    "version": 3
   },
   "file_extension": ".py",
   "mimetype": "text/x-python",
   "name": "python",
   "nbconvert_exporter": "python",
   "pygments_lexer": "ipython3",
   "version": "3.9.7"
  }
 },
 "nbformat": 4,
 "nbformat_minor": 5
}

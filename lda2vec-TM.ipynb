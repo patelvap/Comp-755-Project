{
 "cells": [
  {
   "cell_type": "markdown",
   "id": "70620997",
   "metadata": {},
   "source": [
    "# Temporal lda2vec Model\n",
    "\n",
    "We will implement both the lda2vec-TM model as well as a RNN to predict future document embeddings."
   ]
  },
  {
   "cell_type": "code",
   "execution_count": 1,
   "id": "49201781",
   "metadata": {},
   "outputs": [
    {
     "name": "stdout",
     "output_type": "stream",
     "text": [
      "Found GPU at: /device:GPU:0Metal device set to: Apple M1\n",
      "\n"
     ]
    },
    {
     "name": "stderr",
     "output_type": "stream",
     "text": [
      "2021-11-28 10:42:57.400025: I tensorflow/core/common_runtime/pluggable_device/pluggable_device_factory.cc:305] Could not identify NUMA node of platform GPU ID 0, defaulting to 0. Your kernel may not have been built with NUMA support.\n",
      "2021-11-28 10:42:57.400111: I tensorflow/core/common_runtime/pluggable_device/pluggable_device_factory.cc:271] Created TensorFlow device (/device:GPU:0 with 0 MB memory) -> physical PluggableDevice (device: 0, name: METAL, pci bus id: <undefined>)\n"
     ]
    }
   ],
   "source": [
    "import tensorflow as tf\n",
    "device_name = tf.test.gpu_device_name()\n",
    "if device_name != '/device:GPU:0':\n",
    "  raise SystemError('GPU device not found')\n",
    "print('Found GPU at: {}'.format(device_name))\n",
    "import numpy as np\n",
    "import pickle\n",
    "import pandas as pd\n",
    "import keras"
   ]
  },
  {
   "cell_type": "code",
   "execution_count": 2,
   "id": "dc7043c7",
   "metadata": {},
   "outputs": [],
   "source": [
    "import os\n",
    "os.environ['TF_CPP_MIN_LOG_LEVEL'] = '3'"
   ]
  },
  {
   "cell_type": "markdown",
   "id": "0d90ee8f",
   "metadata": {},
   "source": [
    "## Retrieve Embeddings\n",
    "\n",
    "We will retrieve back the embeddings and dictionary."
   ]
  },
  {
   "cell_type": "code",
   "execution_count": 3,
   "id": "35338b0a",
   "metadata": {},
   "outputs": [],
   "source": [
    "def load_embed():\n",
    "    doc_embed   = tf.constant(np.load(f\"doc_embed_col.npy\"))\n",
    "    word_embed  = tf.constant(np.load(f\"word_embed_col.npy\"))\n",
    "    topic_embed = tf.constant(np.load(f\"topic_embed_col.npy\"))\n",
    "    return (doc_embed, word_embed, topic_embed)"
   ]
  },
  {
   "cell_type": "code",
   "execution_count": 4,
   "id": "3447306d",
   "metadata": {},
   "outputs": [],
   "source": [
    "def load_word_dict(idx_to_word):\n",
    "    if idx_to_word:\n",
    "        file = open(f\"doc_collect/idx_to_word.pickle\", \"rb\")\n",
    "        word_dict = pickle.load(file)\n",
    "    else:\n",
    "        file = open(f\"doc_collect/word_to_idx.pickle\", \"rb\")\n",
    "        word_dict = pickle.load(file)\n",
    "    return word_dict"
   ]
  },
  {
   "cell_type": "code",
   "execution_count": 5,
   "id": "e27cdacb",
   "metadata": {},
   "outputs": [],
   "source": [
    "def word_embed_lookup(word):\n",
    "    word_embed = load_embed()[1]\n",
    "    word_dict  = load_word_dict(False)\n",
    "    word_ind   = word_dict[word]\n",
    "    return word_embed[word_ind]"
   ]
  },
  {
   "cell_type": "code",
   "execution_count": 6,
   "id": "9faf8fe1",
   "metadata": {},
   "outputs": [],
   "source": [
    "def word_idx_lookup(word):\n",
    "    word_dict = load_word_dict(False)\n",
    "    return word_dict[word]"
   ]
  },
  {
   "cell_type": "markdown",
   "id": "76706b53",
   "metadata": {},
   "source": [
    "## Modeling Topic Distribution\n",
    "\n",
    "We now model the topic distribution as a linear model to predict future documents."
   ]
  },
  {
   "cell_type": "code",
   "execution_count": 7,
   "id": "036ea6f8",
   "metadata": {},
   "outputs": [],
   "source": [
    "def topic_dist():\n",
    "    embeds = load_embed()\n",
    "    doc_embed = embeds[0]\n",
    "    topic_embed = embeds[2]\n",
    "    norm_doc = tf.nn.softmax(doc_embed)\n",
    "    topic_dist = tf.linalg.matmul(norm_doc, topic_embed)\n",
    "    return topic_dist"
   ]
  },
  {
   "cell_type": "markdown",
   "id": "a19d355f",
   "metadata": {},
   "source": [
    "## Linear Topic Regression\n",
    "We will model the topic distribution over time as a linear model to predict future documents"
   ]
  },
  {
   "cell_type": "code",
   "execution_count": 8,
   "id": "a0194ab4",
   "metadata": {},
   "outputs": [],
   "source": [
    "# Get transition matrix for training set\n",
    "def transition():\n",
    "    dist = topic_dist()[:240]\n",
    "    old_embed = dist[:239]\n",
    "    new_embed = dist[1:]\n",
    "    rhs = tf.linalg.matmul(tf.transpose(old_embed), old_embed)\n",
    "    lhs = tf.linalg.matmul(tf.transpose(old_embed), new_embed)\n",
    "    return tf.linalg.lstsq(lhs, rhs, l2_regularizer=0.1)"
   ]
  },
  {
   "cell_type": "code",
   "execution_count": 9,
   "id": "0b2363b6",
   "metadata": {},
   "outputs": [
    {
     "name": "stdout",
     "output_type": "stream",
     "text": [
      "Mean square error: 0.609071\n",
      "Average cosine similarity: 0.13105160689328688\n"
     ]
    },
    {
     "name": "stderr",
     "output_type": "stream",
     "text": [
      "2021-11-28 10:42:57.605998: I tensorflow/core/common_runtime/pluggable_device/pluggable_device_factory.cc:305] Could not identify NUMA node of platform GPU ID 0, defaulting to 0. Your kernel may not have been built with NUMA support.\n",
      "2021-11-28 10:42:57.606018: I tensorflow/core/common_runtime/pluggable_device/pluggable_device_factory.cc:271] Created TensorFlow device (/job:localhost/replica:0/task:0/device:GPU:0 with 0 MB memory) -> physical PluggableDevice (device: 0, name: METAL, pci bus id: <undefined>)\n"
     ]
    }
   ],
   "source": [
    "# Test transition on testing set\n",
    "test = topic_dist()[240:]\n",
    "input_embed = test[:59]\n",
    "out_embed = test[1:60].numpy()\n",
    "pred = tf.linalg.matmul(input_embed, transition()).numpy()\n",
    "print(\"Mean square error:\", np.mean((pred - out_embed)**2))\n",
    "norm_pred = pred/np.reshape(np.linalg.norm(pred,axis=1), (59,1))\n",
    "norm_out = out_embed/np.reshape(np.linalg.norm(out_embed,axis=1), (59,1))\n",
    "cosine = 0\n",
    "for i in range(59):\n",
    "    cosine += np.dot(norm_pred[i], norm_out[i].T)\n",
    "print(\"Average cosine similarity:\", cosine/59)"
   ]
  },
  {
   "cell_type": "markdown",
   "id": "a4eb3a3d",
   "metadata": {},
   "source": [
    "## Neural Network Regression\n",
    "\n",
    "We will implement a recurrent neural network to obtain document vectors."
   ]
  },
  {
   "cell_type": "code",
   "execution_count": 10,
   "id": "73132524",
   "metadata": {},
   "outputs": [],
   "source": [
    "# convert into dataset matrix\n",
    "def convertToMatrix(data, step):\n",
    "    X, Y = [], []\n",
    "    for i in range(data.shape[0]-step):\n",
    "        d = i+step\n",
    "        X.append(data[i:d])\n",
    "        Y.append(data[d])\n",
    "    return tf.convert_to_tensor(X), tf.convert_to_tensor(Y)"
   ]
  },
  {
   "cell_type": "code",
   "execution_count": 11,
   "id": "c1345e3f",
   "metadata": {},
   "outputs": [],
   "source": [
    "dist = topic_dist()\n",
    "idxs_train = list(range(240))\n",
    "idxs_test = list(range(240,300))\n",
    "train = tf.gather(dist, idxs_train)\n",
    "test = tf.gather(dist, idxs_test)\n",
    "step = 10"
   ]
  },
  {
   "cell_type": "code",
   "execution_count": 12,
   "id": "f5214a5d",
   "metadata": {},
   "outputs": [],
   "source": [
    "trainX, trainY = convertToMatrix(train, step)\n",
    "testX, testY = convertToMatrix(test, step)"
   ]
  },
  {
   "cell_type": "code",
   "execution_count": 13,
   "id": "504e4e53",
   "metadata": {},
   "outputs": [
    {
     "name": "stdout",
     "output_type": "stream",
     "text": [
      "Model: \"sequential\"\n",
      "_________________________________________________________________\n",
      "Layer (type)                 Output Shape              Param #   \n",
      "=================================================================\n",
      "gru (GRU)                    (None, 10, 300)           541800    \n",
      "_________________________________________________________________\n",
      "simple_rnn (SimpleRNN)       (None, 300)               180300    \n",
      "_________________________________________________________________\n",
      "dense (Dense)                (None, 300)               90300     \n",
      "=================================================================\n",
      "Total params: 812,400\n",
      "Trainable params: 812,400\n",
      "Non-trainable params: 0\n",
      "_________________________________________________________________\n"
     ]
    }
   ],
   "source": [
    "model = tf.keras.Sequential()\n",
    "#model.add(tf.keras.layers.Input(shape=(step,300)))\n",
    "#model.add(tf.keras.layers.Bidirectional(tf.keras.layers.GRU(300, return_sequences=True)))\n",
    "model.add(tf.keras.layers.GRU(300, input_shape=(step,300), return_sequences=True))\n",
    "model.add(tf.keras.layers.SimpleRNN(units=300))\n",
    "#model.add(tf.keras.layers.Dense(300, activation=\"tanh\"))\n",
    "model.add(tf.keras.layers.Dense(300))\n",
    "model.compile(loss='cosine_similarity', optimizer='Adam')\n",
    "model.summary()"
   ]
  },
  {
   "cell_type": "code",
   "execution_count": 14,
   "id": "efd18c15",
   "metadata": {
    "scrolled": false
   },
   "outputs": [
    {
     "name": "stdout",
     "output_type": "stream",
     "text": [
      "Epoch 1/15\n"
     ]
    },
    {
     "name": "stderr",
     "output_type": "stream",
     "text": [
      "2021-11-28 10:42:59.055529: I tensorflow/compiler/mlir/mlir_graph_optimization_pass.cc:185] None of the MLIR Optimization Passes are enabled (registered 2)\n",
      "2021-11-28 10:42:59.055730: W tensorflow/core/platform/profile_utils/cpu_utils.cc:128] Failed to get CPU frequency: 0 Hz\n"
     ]
    },
    {
     "name": "stdout",
     "output_type": "stream",
     "text": [
      "11/11 [==============================] - 2s 103ms/step - loss: -0.4911 - val_loss: -0.6646\n",
      "Epoch 2/15\n",
      "11/11 [==============================] - 1s 73ms/step - loss: -0.6776 - val_loss: -0.6797\n",
      "Epoch 3/15\n",
      "11/11 [==============================] - 1s 72ms/step - loss: -0.6892 - val_loss: -0.6907\n",
      "Epoch 4/15\n",
      "11/11 [==============================] - 1s 72ms/step - loss: -0.6921 - val_loss: -0.6849\n",
      "Epoch 5/15\n",
      "11/11 [==============================] - 1s 72ms/step - loss: -0.6925 - val_loss: -0.6884\n",
      "Epoch 6/15\n",
      "11/11 [==============================] - 1s 72ms/step - loss: -0.6926 - val_loss: -0.6882\n",
      "Epoch 7/15\n",
      "11/11 [==============================] - 1s 73ms/step - loss: -0.6920 - val_loss: -0.6857\n",
      "Epoch 8/15\n",
      "11/11 [==============================] - 1s 72ms/step - loss: -0.6922 - val_loss: -0.6877\n",
      "Epoch 9/15\n",
      "11/11 [==============================] - 1s 73ms/step - loss: -0.6922 - val_loss: -0.6857\n",
      "Epoch 10/15\n",
      "11/11 [==============================] - 1s 72ms/step - loss: -0.6945 - val_loss: -0.6875\n",
      "Epoch 11/15\n",
      "11/11 [==============================] - 1s 73ms/step - loss: -0.6948 - val_loss: -0.6886\n",
      "Epoch 12/15\n",
      "11/11 [==============================] - 1s 73ms/step - loss: -0.6955 - val_loss: -0.6877\n",
      "Epoch 13/15\n",
      "11/11 [==============================] - 1s 73ms/step - loss: -0.6954 - val_loss: -0.6812\n",
      "Epoch 14/15\n",
      "11/11 [==============================] - 1s 72ms/step - loss: -0.6910 - val_loss: -0.6879\n",
      "Epoch 15/15\n",
      "11/11 [==============================] - 1s 73ms/step - loss: -0.6977 - val_loss: -0.6884\n"
     ]
    },
    {
     "data": {
      "text/plain": [
       "<keras.callbacks.History at 0x294c165b0>"
      ]
     },
     "execution_count": 14,
     "metadata": {},
     "output_type": "execute_result"
    }
   ],
   "source": [
    "model.fit(trainX,trainY, epochs=15, batch_size=20, validation_split=0.1)"
   ]
  },
  {
   "cell_type": "code",
   "execution_count": 15,
   "id": "563c5730",
   "metadata": {},
   "outputs": [
    {
     "name": "stdout",
     "output_type": "stream",
     "text": [
      "8/8 [==============================] - 0s 17ms/step - loss: -0.6989\n"
     ]
    }
   ],
   "source": [
    "trainScore = model.evaluate(trainX, trainY)"
   ]
  },
  {
   "cell_type": "code",
   "execution_count": 16,
   "id": "3f0c33bf",
   "metadata": {},
   "outputs": [
    {
     "name": "stdout",
     "output_type": "stream",
     "text": [
      "2/2 [==============================] - 0s 33ms/step - loss: -0.6877\n"
     ]
    }
   ],
   "source": [
    "testScore = model.evaluate(testX, testY)"
   ]
  },
  {
   "cell_type": "code",
   "execution_count": 17,
   "id": "2b5fa0eb",
   "metadata": {},
   "outputs": [],
   "source": [
    "pred = tf.expand_dims(dist[-step:],0)"
   ]
  },
  {
   "cell_type": "code",
   "execution_count": 18,
   "id": "9382a184",
   "metadata": {},
   "outputs": [],
   "source": [
    "next_doc = tf.expand_dims(model.predict(pred)[0],1)"
   ]
  },
  {
   "cell_type": "code",
   "execution_count": 19,
   "id": "10707f6a",
   "metadata": {
    "scrolled": true
   },
   "outputs": [],
   "source": [
    "next_doc_weights = tf.linalg.lstsq(tf.transpose(load_embed()[2]), next_doc)"
   ]
  },
  {
   "cell_type": "code",
   "execution_count": 20,
   "id": "512afccd",
   "metadata": {},
   "outputs": [],
   "source": [
    "norm_doc = next_doc/tf.linalg.norm(next_doc)"
   ]
  },
  {
   "cell_type": "code",
   "execution_count": 21,
   "id": "2334335f",
   "metadata": {},
   "outputs": [],
   "source": [
    "cosine = tf.linalg.matmul(load_embed()[1], norm_doc).numpy()"
   ]
  },
  {
   "cell_type": "code",
   "execution_count": 22,
   "id": "2fc923e4",
   "metadata": {},
   "outputs": [],
   "source": [
    "cosine = np.squeeze(cosine)"
   ]
  },
  {
   "cell_type": "code",
   "execution_count": 23,
   "id": "6126cc42",
   "metadata": {},
   "outputs": [],
   "source": [
    "word_doc_idxs = np.argsort(cosine)"
   ]
  },
  {
   "cell_type": "code",
   "execution_count": 24,
   "id": "5f595b83",
   "metadata": {},
   "outputs": [],
   "source": [
    "word_dict = load_word_dict(True)"
   ]
  },
  {
   "cell_type": "code",
   "execution_count": 25,
   "id": "3ff89b21",
   "metadata": {},
   "outputs": [
    {
     "name": "stdout",
     "output_type": "stream",
     "text": [
      "algorithm\n",
      "given\n",
      "learning\n",
      "training\n",
      "model\n",
      "figure\n",
      "method\n",
      "note\n",
      "based\n",
      "models\n",
      "estimation\n",
      "nips\n",
      "following\n",
      "methods\n",
      "algorithms\n",
      "consider\n",
      "corresponding\n",
      "optimal\n",
      "time\n",
      "similar\n",
      "respectively\n",
      "step\n",
      "shown\n",
      "linear\n",
      "data\n",
      "optimization\n",
      "general\n",
      "approach\n",
      "gradient\n"
     ]
    }
   ],
   "source": [
    "for i in range(1,30):\n",
    "    print(word_dict[word_doc_idxs[-i]])"
   ]
  },
  {
   "cell_type": "code",
   "execution_count": null,
   "id": "5a7d0045",
   "metadata": {},
   "outputs": [],
   "source": []
  }
 ],
 "metadata": {
  "kernelspec": {
   "display_name": "Python 3 (ipykernel)",
   "language": "python",
   "name": "python3"
  },
  "language_info": {
   "codemirror_mode": {
    "name": "ipython",
    "version": 3
   },
   "file_extension": ".py",
   "mimetype": "text/x-python",
   "name": "python",
   "nbconvert_exporter": "python",
   "pygments_lexer": "ipython3",
   "version": "3.9.7"
  }
 },
 "nbformat": 4,
 "nbformat_minor": 5
}

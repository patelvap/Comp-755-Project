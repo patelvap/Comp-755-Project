{
 "cells": [
  {
   "cell_type": "code",
   "execution_count": 1,
   "metadata": {},
   "outputs": [
    {
     "name": "stderr",
     "output_type": "stream",
     "text": [
      "Using TensorFlow backend.\n"
     ]
    }
   ],
   "source": [
    "import numpy as np\n",
    "import tensorflow as tf\n",
    "import keras\n",
    "from keras.utils import np_utils\n",
    "from keras.layers import Input, Dense\n",
    "from keras.models import Model\n",
    "from keras import losses\n",
    "import matplotlib.pyplot as plt\n",
    "import pandas as pd\n",
    "from pandas import DataFrame\n",
    "\n",
    "#Define Load embed\n",
    "def load_embed(ind):\n",
    "    doc_embed   = tf.constant(np.load(f\"embeds_a/doc_embed_a{ind}.npy\"))\n",
    "    word_embed  = tf.constant(np.load(f\"embeds_a/word_embed_a{ind}.npy\"))\n",
    "    topic_embed = tf.constant(np.load(f\"embeds_a/topic_embed_a{ind}.npy\"))\n",
    "    return (doc_embed, word_embed, topic_embed)\n",
    "\n",
    "#Define Topic Dist\n",
    "def topic_dist(ind):\n",
    "    embeds = load_embed(ind)\n",
    "    doc_embed = embeds[0]\n",
    "    topic_embed = embeds[2]\n",
    "    norm_doc = tf.nn.softmax(doc_embed)\n",
    "    topic_dist = tf.linalg.matmul(norm_doc, topic_embed)\n",
    "    return topic_dist"
   ]
  },
  {
   "cell_type": "code",
   "execution_count": 2,
   "metadata": {},
   "outputs": [
    {
     "name": "stdout",
     "output_type": "stream",
     "text": [
      "(100, 300)\n",
      "(99, 300)\n",
      "(99, 300)\n"
     ]
    }
   ],
   "source": [
    "#Load Data\n",
    "data = topic_dist(2)\n",
    "print(data.shape)\n",
    "#Remove last 10 rows (aka 2017. Cant predict 2018 without data)\n",
    "inputs = data[:-1, :]\n",
    "print(inputs.shape)\n",
    "#Remove first 1 row (aka 2008. Cant predict to 2008 without prev data)\n",
    "outputs = data[1:, :]\n",
    "print(outputs.shape)"
   ]
  },
  {
   "cell_type": "code",
   "execution_count": 3,
   "metadata": {},
   "outputs": [
    {
     "name": "stdout",
     "output_type": "stream",
     "text": [
      "Epoch 1/50\n",
      "10/10 [==============================] - 1s 58ms/step - loss: 0.0184 - cosine_similarity: 0.4375\n",
      "Epoch 2/50\n",
      "10/10 [==============================] - 0s 9ms/step - loss: 0.0113 - cosine_similarity: 0.6874\n",
      "Epoch 3/50\n",
      "10/10 [==============================] - 0s 8ms/step - loss: 0.0092 - cosine_similarity: 0.7442\n",
      "Epoch 4/50\n",
      "10/10 [==============================] - 0s 9ms/step - loss: 0.0082 - cosine_similarity: 0.7721\n",
      "Epoch 5/50\n",
      "10/10 [==============================] - 0s 8ms/step - loss: 0.0077 - cosine_similarity: 0.7854\n",
      "Epoch 6/50\n",
      "10/10 [==============================] - 0s 10ms/step - loss: 0.0074 - cosine_similarity: 0.7931\n",
      "Epoch 7/50\n",
      "10/10 [==============================] - 0s 8ms/step - loss: 0.0072 - cosine_similarity: 0.7968\n",
      "Epoch 8/50\n",
      "10/10 [==============================] - 0s 8ms/step - loss: 0.0071 - cosine_similarity: 0.7975\n",
      "Epoch 9/50\n",
      "10/10 [==============================] - 0s 8ms/step - loss: 0.0071 - cosine_similarity: 0.7961\n",
      "Epoch 10/50\n",
      "10/10 [==============================] - 0s 9ms/step - loss: 0.0070 - cosine_similarity: 0.7961\n",
      "Epoch 11/50\n",
      "10/10 [==============================] - 0s 10ms/step - loss: 0.0068 - cosine_similarity: 0.7959\n",
      "Epoch 12/50\n",
      "10/10 [==============================] - 0s 9ms/step - loss: 0.0068 - cosine_similarity: 0.7946\n",
      "Epoch 13/50\n",
      "10/10 [==============================] - 0s 8ms/step - loss: 0.0068 - cosine_similarity: 0.7922\n",
      "Epoch 14/50\n",
      "10/10 [==============================] - 0s 9ms/step - loss: 0.0065 - cosine_similarity: 0.7948\n",
      "Epoch 15/50\n",
      "10/10 [==============================] - 0s 8ms/step - loss: 0.0064 - cosine_similarity: 0.7935\n",
      "Epoch 16/50\n",
      "10/10 [==============================] - 0s 8ms/step - loss: 0.0062 - cosine_similarity: 0.7940\n",
      "Epoch 17/50\n",
      "10/10 [==============================] - 0s 8ms/step - loss: 0.0059 - cosine_similarity: 0.7965\n",
      "Epoch 18/50\n",
      "10/10 [==============================] - ETA: 0s - loss: 0.0059 - cosine_similarity: 0.795 - 0s 8ms/step - loss: 0.0058 - cosine_similarity: 0.7970\n",
      "Epoch 19/50\n",
      "10/10 [==============================] - 0s 8ms/step - loss: 0.0055 - cosine_similarity: 0.8016\n",
      "Epoch 20/50\n",
      "10/10 [==============================] - 0s 9ms/step - loss: 0.0050 - cosine_similarity: 0.8068\n",
      "Epoch 21/50\n",
      "10/10 [==============================] - 0s 8ms/step - loss: 0.0046 - cosine_similarity: 0.8117\n",
      "Epoch 22/50\n",
      "10/10 [==============================] - 0s 7ms/step - loss: 0.0042 - cosine_similarity: 0.8194\n",
      "Epoch 23/50\n",
      "10/10 [==============================] - 0s 8ms/step - loss: 0.0038 - cosine_similarity: 0.8254\n",
      "Epoch 24/50\n",
      "10/10 [==============================] - 0s 10ms/step - loss: 0.0037 - cosine_similarity: 0.8334\n",
      "Epoch 25/50\n",
      "10/10 [==============================] - 0s 7ms/step - loss: 0.0030 - cosine_similarity: 0.8456\n",
      "Epoch 26/50\n",
      "10/10 [==============================] - ETA: 0s - loss: 0.0030 - cosine_similarity: 0.847 - 0s 7ms/step - loss: 0.0029 - cosine_similarity: 0.8497\n",
      "Epoch 27/50\n",
      "10/10 [==============================] - 0s 8ms/step - loss: 0.0023 - cosine_similarity: 0.8613\n",
      "Epoch 28/50\n",
      "10/10 [==============================] - 0s 9ms/step - loss: 0.0020 - cosine_similarity: 0.8671\n",
      "Epoch 29/50\n",
      "10/10 [==============================] - 0s 10ms/step - loss: 0.0019 - cosine_similarity: 0.8696\n",
      "Epoch 30/50\n",
      "10/10 [==============================] - 0s 8ms/step - loss: 0.0016 - cosine_similarity: 0.8738\n",
      "Epoch 31/50\n",
      "10/10 [==============================] - 0s 8ms/step - loss: 0.0015 - cosine_similarity: 0.8756\n",
      "Epoch 32/50\n",
      "10/10 [==============================] - 0s 8ms/step - loss: 0.0012 - cosine_similarity: 0.8784\n",
      "Epoch 33/50\n",
      "10/10 [==============================] - 0s 10ms/step - loss: 0.0011 - cosine_similarity: 0.8806\n",
      "Epoch 34/50\n",
      "10/10 [==============================] - 0s 10ms/step - loss: 0.0010 - cosine_similarity: 0.8820\n",
      "Epoch 35/50\n",
      "10/10 [==============================] - 0s 8ms/step - loss: 0.0011 - cosine_similarity: 0.8803\n",
      "Epoch 36/50\n",
      "10/10 [==============================] - 0s 7ms/step - loss: 9.2450e-04 - cosine_similarity: 0.8834\n",
      "Epoch 37/50\n",
      "10/10 [==============================] - 0s 7ms/step - loss: 8.1204e-04 - cosine_similarity: 0.8853\n",
      "Epoch 38/50\n",
      "10/10 [==============================] - 0s 8ms/step - loss: 7.5024e-04 - cosine_similarity: 0.8865\n",
      "Epoch 39/50\n",
      "10/10 [==============================] - 0s 8ms/step - loss: 7.0738e-04 - cosine_similarity: 0.8873\n",
      "Epoch 40/50\n",
      "10/10 [==============================] - 0s 8ms/step - loss: 6.7476e-04 - cosine_similarity: 0.8879\n",
      "Epoch 41/50\n",
      "10/10 [==============================] - 0s 9ms/step - loss: 6.5957e-04 - cosine_similarity: 0.8882\n",
      "Epoch 42/50\n",
      "10/10 [==============================] - 0s 9ms/step - loss: 6.6768e-04 - cosine_similarity: 0.8883\n",
      "Epoch 43/50\n",
      "10/10 [==============================] - 0s 9ms/step - loss: 6.2243e-04 - cosine_similarity: 0.8892\n",
      "Epoch 44/50\n",
      "10/10 [==============================] - 0s 7ms/step - loss: 6.4083e-04 - cosine_similarity: 0.8891\n",
      "Epoch 45/50\n",
      "10/10 [==============================] - 0s 8ms/step - loss: 5.8848e-04 - cosine_similarity: 0.8901\n",
      "Epoch 46/50\n",
      "10/10 [==============================] - 0s 10ms/step - loss: 5.6872e-04 - cosine_similarity: 0.8906\n",
      "Epoch 47/50\n",
      "10/10 [==============================] - 0s 11ms/step - loss: 5.5960e-04 - cosine_similarity: 0.8910\n",
      "Epoch 48/50\n",
      "10/10 [==============================] - 0s 10ms/step - loss: 5.7905e-04 - cosine_similarity: 0.8910\n",
      "Epoch 49/50\n",
      "10/10 [==============================] - 0s 9ms/step - loss: 5.4733e-04 - cosine_similarity: 0.8917\n",
      "Epoch 50/50\n",
      "10/10 [==============================] - 0s 9ms/step - loss: 5.3590e-04 - cosine_similarity: 0.8920\n"
     ]
    },
    {
     "data": {
      "image/png": "[encoded data removed]",
      "text/plain": [
       "<Figure size 432x288 with 1 Axes>"
      ]
     },
     "metadata": {
      "needs_background": "light"
     },
     "output_type": "display_data"
    },
    {
     "data": {
      "image/png": "[encoded data removed]",
      "text/plain": [
       "<Figure size 432x288 with 1 Axes>"
      ]
     },
     "metadata": {
      "needs_background": "light"
     },
     "output_type": "display_data"
    }
   ],
   "source": [
    "input_size = 300\n",
    "hidden_size1 = 300\n",
    "hidden_size2 = 300\n",
    "hidden_size3 = 300\n",
    "output_size = 300\n",
    "\n",
    "input_data = Input(shape=(input_size,))\n",
    "hidden_d_1 = Dense(hidden_size1, activation='tanh')(input_data)\n",
    "hidden_d_2 = Dense(hidden_size2, activation='tanh')(hidden_d_1)\n",
    "hidden_d_3 = Dense(hidden_size3, activation='tanh')(hidden_d_2)\n",
    "predicted = Dense(output_size, activation='tanh')(hidden_d_3)\n",
    "\n",
    "predictor = Model(input_data, predicted)\n",
    "predictor.compile(optimizer='Adam', loss='msle', metrics=['cosine_similarity'] ) #Can also do MSE or MAE here for loss.\n",
    "\n",
    "p = predictor.fit(inputs, outputs,\n",
    "epochs=50,\n",
    "steps_per_epoch=10,\n",
    "shuffle=False)\n",
    "#validation_data=(X_test, Y_test))\n",
    "#Plotting loss\n",
    "plt.plot(p.history['loss'])\n",
    "#plt.plot(p.history['val_loss'])\n",
    "plt.title('model loss')\n",
    "plt.ylabel('loss')\n",
    "plt.xlabel('epoch')\n",
    "plt.legend(['train'], loc='upper left')\n",
    "#plt.legend(['train', 'validation'], loc='upper left')\n",
    "plt.axis([0, 50, 0, 0.1])\n",
    "plt.show()\n",
    "\n",
    "#Plotting Accuracy\n",
    "plt.plot(p.history['cosine_similarity'])\n",
    "#plt.plot(p.history['val_acc'])\n",
    "plt.title('model cosine_similarity')\n",
    "plt.ylabel('cosine_similarity')\n",
    "plt.xlabel('epoch')\n",
    "plt.legend(['cosine_similarity'], loc='upper left')\n",
    "#plt.legend(['acc', 'val_acc'], loc='upper left')\n",
    "plt.axis([0, 50, 0.0, 1.0])\n",
    "plt.show()"
   ]
  },
  {
   "cell_type": "code",
   "execution_count": null,
   "metadata": {},
   "outputs": [],
   "source": []
  }
 ],
 "metadata": {
  "kernelspec": {
   "display_name": "Python 3",
   "language": "python",
   "name": "python3"
  },
  "language_info": {
   "codemirror_mode": {
    "name": "ipython",
    "version": 3
   },
   "file_extension": ".py",
   "mimetype": "text/x-python",
   "name": "python",
   "nbconvert_exporter": "python",
   "pygments_lexer": "ipython3",
   "version": "3.6.9"
  }
 },
 "nbformat": 4,
 "nbformat_minor": 5
}
